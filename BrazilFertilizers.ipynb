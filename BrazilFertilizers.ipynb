{
  "nbformat": 4,
  "nbformat_minor": 0,
  "metadata": {
    "colab": {
      "name": "BrazilFertilizers.ipynb",
      "provenance": [],
      "collapsed_sections": [],
      "authorship_tag": "ABX9TyOKBQZHcpELiPbjama5zhvg",
      "include_colab_link": true
    },
    "kernelspec": {
      "name": "python3",
      "display_name": "Python 3"
    }
  },
  "cells": [
    {
      "cell_type": "markdown",
      "metadata": {
        "id": "view-in-github",
        "colab_type": "text"
      },
      "source": [
        "<a href=\"https://colab.research.google.com/github/josehenriqueroveda/fertilizer-analysis/blob/master/BrazilFertilizers.ipynb\" target=\"_parent\"><img src=\"https://colab.research.google.com/assets/colab-badge.svg\" alt=\"Open In Colab\"/></a>"
      ]
    },
    {
      "cell_type": "markdown",
      "metadata": {
        "id": "lMu81xIxjdq4",
        "colab_type": "text"
      },
      "source": [
        "# **Analysis on fertilizers in Brazil**\n",
        "José Henrique Roveda"
      ]
    },
    {
      "cell_type": "code",
      "metadata": {
        "id": "OVCEHzKVi4HS",
        "colab_type": "code",
        "colab": {
          "base_uri": "https://localhost:8080/",
          "height": 122
        },
        "outputId": "99118825-12ae-4d1e-fbd7-4285ecc711c2"
      },
      "source": [
        "from google.colab import drive\n",
        "\n",
        "drive.mount('/content/drive')"
      ],
      "execution_count": 1,
      "outputs": [
        {
          "output_type": "stream",
          "text": [
            "Go to this URL in a browser: https://accounts.google.com/o/oauth2/auth?client_id=947318989803-6bn6qk8qdgf4n4g3pfee6491hc0brc4i.apps.googleusercontent.com&redirect_uri=urn%3aietf%3awg%3aoauth%3a2.0%3aoob&response_type=code&scope=email%20https%3a%2f%2fwww.googleapis.com%2fauth%2fdocs.test%20https%3a%2f%2fwww.googleapis.com%2fauth%2fdrive%20https%3a%2f%2fwww.googleapis.com%2fauth%2fdrive.photos.readonly%20https%3a%2f%2fwww.googleapis.com%2fauth%2fpeopleapi.readonly\n",
            "\n",
            "Enter your authorization code:\n",
            "··········\n",
            "Mounted at /content/drive\n"
          ],
          "name": "stdout"
        }
      ]
    },
    {
      "cell_type": "markdown",
      "metadata": {
        "id": "CnMqAqUYj_7F",
        "colab_type": "text"
      },
      "source": [
        "Import libs"
      ]
    },
    {
      "cell_type": "code",
      "metadata": {
        "id": "ZFIiwzf2j3Qk",
        "colab_type": "code",
        "colab": {}
      },
      "source": [
        "import pandas as pd\n",
        "import seaborn as sns\n",
        "import numpy as np\n",
        "import matplotlib.pyplot as plt\n",
        "import plotly.express as px"
      ],
      "execution_count": 12,
      "outputs": []
    },
    {
      "cell_type": "code",
      "metadata": {
        "id": "ZriJNbXokMMK",
        "colab_type": "code",
        "colab": {
          "base_uri": "https://localhost:8080/",
          "height": 419
        },
        "outputId": "72c3cb8e-b929-408e-93f7-32b849dd2dac"
      },
      "source": [
        "df = pd.read_csv('/content/drive/My Drive/ColabNotebooks/Projects/Fertilizers/FertilizersProduct.csv', encoding='ISO-8859-1')\n",
        "df"
      ],
      "execution_count": 4,
      "outputs": [
        {
          "output_type": "execute_result",
          "data": {
            "text/html": [
              "<div>\n",
              "<style scoped>\n",
              "    .dataframe tbody tr th:only-of-type {\n",
              "        vertical-align: middle;\n",
              "    }\n",
              "\n",
              "    .dataframe tbody tr th {\n",
              "        vertical-align: top;\n",
              "    }\n",
              "\n",
              "    .dataframe thead th {\n",
              "        text-align: right;\n",
              "    }\n",
              "</style>\n",
              "<table border=\"1\" class=\"dataframe\">\n",
              "  <thead>\n",
              "    <tr style=\"text-align: right;\">\n",
              "      <th></th>\n",
              "      <th>Area Code</th>\n",
              "      <th>Area</th>\n",
              "      <th>Item Code</th>\n",
              "      <th>Item</th>\n",
              "      <th>Element Code</th>\n",
              "      <th>Element</th>\n",
              "      <th>Year Code</th>\n",
              "      <th>Year</th>\n",
              "      <th>Unit</th>\n",
              "      <th>Value</th>\n",
              "      <th>Flag</th>\n",
              "    </tr>\n",
              "  </thead>\n",
              "  <tbody>\n",
              "    <tr>\n",
              "      <th>0</th>\n",
              "      <td>2</td>\n",
              "      <td>Afghanistan</td>\n",
              "      <td>4007</td>\n",
              "      <td>Ammonia, anhydrous</td>\n",
              "      <td>5610</td>\n",
              "      <td>Import Quantity</td>\n",
              "      <td>2011</td>\n",
              "      <td>2011</td>\n",
              "      <td>tonnes</td>\n",
              "      <td>4.49</td>\n",
              "      <td>R</td>\n",
              "    </tr>\n",
              "    <tr>\n",
              "      <th>1</th>\n",
              "      <td>2</td>\n",
              "      <td>Afghanistan</td>\n",
              "      <td>4007</td>\n",
              "      <td>Ammonia, anhydrous</td>\n",
              "      <td>5610</td>\n",
              "      <td>Import Quantity</td>\n",
              "      <td>2014</td>\n",
              "      <td>2014</td>\n",
              "      <td>tonnes</td>\n",
              "      <td>2.00</td>\n",
              "      <td>R</td>\n",
              "    </tr>\n",
              "    <tr>\n",
              "      <th>2</th>\n",
              "      <td>2</td>\n",
              "      <td>Afghanistan</td>\n",
              "      <td>4007</td>\n",
              "      <td>Ammonia, anhydrous</td>\n",
              "      <td>5610</td>\n",
              "      <td>Import Quantity</td>\n",
              "      <td>2017</td>\n",
              "      <td>2017</td>\n",
              "      <td>tonnes</td>\n",
              "      <td>2.07</td>\n",
              "      <td>R</td>\n",
              "    </tr>\n",
              "    <tr>\n",
              "      <th>3</th>\n",
              "      <td>2</td>\n",
              "      <td>Afghanistan</td>\n",
              "      <td>4007</td>\n",
              "      <td>Ammonia, anhydrous</td>\n",
              "      <td>5622</td>\n",
              "      <td>Import Value</td>\n",
              "      <td>2011</td>\n",
              "      <td>2011</td>\n",
              "      <td>1000 US$</td>\n",
              "      <td>2.69</td>\n",
              "      <td>R</td>\n",
              "    </tr>\n",
              "    <tr>\n",
              "      <th>4</th>\n",
              "      <td>2</td>\n",
              "      <td>Afghanistan</td>\n",
              "      <td>4007</td>\n",
              "      <td>Ammonia, anhydrous</td>\n",
              "      <td>5622</td>\n",
              "      <td>Import Value</td>\n",
              "      <td>2014</td>\n",
              "      <td>2014</td>\n",
              "      <td>1000 US$</td>\n",
              "      <td>1.07</td>\n",
              "      <td>R</td>\n",
              "    </tr>\n",
              "    <tr>\n",
              "      <th>...</th>\n",
              "      <td>...</td>\n",
              "      <td>...</td>\n",
              "      <td>...</td>\n",
              "      <td>...</td>\n",
              "      <td>...</td>\n",
              "      <td>...</td>\n",
              "      <td>...</td>\n",
              "      <td>...</td>\n",
              "      <td>...</td>\n",
              "      <td>...</td>\n",
              "      <td>...</td>\n",
              "    </tr>\n",
              "    <tr>\n",
              "      <th>164463</th>\n",
              "      <td>181</td>\n",
              "      <td>Zimbabwe</td>\n",
              "      <td>4006</td>\n",
              "      <td>Urea and ammonium nitrate solutions (UAN)</td>\n",
              "      <td>5157</td>\n",
              "      <td>Agricultural Use</td>\n",
              "      <td>2004</td>\n",
              "      <td>2004</td>\n",
              "      <td>tonnes</td>\n",
              "      <td>5.00</td>\n",
              "      <td>Fb</td>\n",
              "    </tr>\n",
              "    <tr>\n",
              "      <th>164464</th>\n",
              "      <td>181</td>\n",
              "      <td>Zimbabwe</td>\n",
              "      <td>4006</td>\n",
              "      <td>Urea and ammonium nitrate solutions (UAN)</td>\n",
              "      <td>5157</td>\n",
              "      <td>Agricultural Use</td>\n",
              "      <td>2008</td>\n",
              "      <td>2008</td>\n",
              "      <td>tonnes</td>\n",
              "      <td>2.13</td>\n",
              "      <td>Fb</td>\n",
              "    </tr>\n",
              "    <tr>\n",
              "      <th>164465</th>\n",
              "      <td>181</td>\n",
              "      <td>Zimbabwe</td>\n",
              "      <td>4006</td>\n",
              "      <td>Urea and ammonium nitrate solutions (UAN)</td>\n",
              "      <td>5157</td>\n",
              "      <td>Agricultural Use</td>\n",
              "      <td>2009</td>\n",
              "      <td>2009</td>\n",
              "      <td>tonnes</td>\n",
              "      <td>9.00</td>\n",
              "      <td>Fb</td>\n",
              "    </tr>\n",
              "    <tr>\n",
              "      <th>164466</th>\n",
              "      <td>181</td>\n",
              "      <td>Zimbabwe</td>\n",
              "      <td>4006</td>\n",
              "      <td>Urea and ammonium nitrate solutions (UAN)</td>\n",
              "      <td>5157</td>\n",
              "      <td>Agricultural Use</td>\n",
              "      <td>2010</td>\n",
              "      <td>2010</td>\n",
              "      <td>tonnes</td>\n",
              "      <td>4971.00</td>\n",
              "      <td>Fb</td>\n",
              "    </tr>\n",
              "    <tr>\n",
              "      <th>164467</th>\n",
              "      <td>181</td>\n",
              "      <td>Zimbabwe</td>\n",
              "      <td>4006</td>\n",
              "      <td>Urea and ammonium nitrate solutions (UAN)</td>\n",
              "      <td>5157</td>\n",
              "      <td>Agricultural Use</td>\n",
              "      <td>2011</td>\n",
              "      <td>2011</td>\n",
              "      <td>tonnes</td>\n",
              "      <td>7.00</td>\n",
              "      <td>Fb</td>\n",
              "    </tr>\n",
              "  </tbody>\n",
              "</table>\n",
              "<p>164468 rows × 11 columns</p>\n",
              "</div>"
            ],
            "text/plain": [
              "        Area Code         Area  Item Code  ...      Unit    Value Flag\n",
              "0               2  Afghanistan       4007  ...    tonnes     4.49    R\n",
              "1               2  Afghanistan       4007  ...    tonnes     2.00    R\n",
              "2               2  Afghanistan       4007  ...    tonnes     2.07    R\n",
              "3               2  Afghanistan       4007  ...  1000 US$     2.69    R\n",
              "4               2  Afghanistan       4007  ...  1000 US$     1.07    R\n",
              "...           ...          ...        ...  ...       ...      ...  ...\n",
              "164463        181     Zimbabwe       4006  ...    tonnes     5.00   Fb\n",
              "164464        181     Zimbabwe       4006  ...    tonnes     2.13   Fb\n",
              "164465        181     Zimbabwe       4006  ...    tonnes     9.00   Fb\n",
              "164466        181     Zimbabwe       4006  ...    tonnes  4971.00   Fb\n",
              "164467        181     Zimbabwe       4006  ...    tonnes     7.00   Fb\n",
              "\n",
              "[164468 rows x 11 columns]"
            ]
          },
          "metadata": {
            "tags": []
          },
          "execution_count": 4
        }
      ]
    },
    {
      "cell_type": "code",
      "metadata": {
        "id": "ZKW9-9QAkW2E",
        "colab_type": "code",
        "colab": {}
      },
      "source": [
        "# Drop irrelevant columns\n",
        "df.drop(['Area Code','Item Code', 'Element Code', 'Year Code', 'Flag'],inplace=True,axis=1)"
      ],
      "execution_count": 5,
      "outputs": []
    },
    {
      "cell_type": "markdown",
      "metadata": {
        "id": "g8MJtJ_DoMDA",
        "colab_type": "text"
      },
      "source": [
        "Get only Brazil info"
      ]
    },
    {
      "cell_type": "code",
      "metadata": {
        "id": "Ntz-ujtulcyI",
        "colab_type": "code",
        "colab": {}
      },
      "source": [
        "df_br = df.loc[df.Area == 'Brazil']"
      ],
      "execution_count": 6,
      "outputs": []
    },
    {
      "cell_type": "code",
      "metadata": {
        "id": "IIyVVAdAoSyc",
        "colab_type": "code",
        "colab": {}
      },
      "source": [
        "agr_usage = df_br.loc[df_br.Element == 'Agricultural Use']"
      ],
      "execution_count": 8,
      "outputs": []
    },
    {
      "cell_type": "code",
      "metadata": {
        "id": "U-VdQrAno5Fq",
        "colab_type": "code",
        "colab": {
          "base_uri": "https://localhost:8080/",
          "height": 419
        },
        "outputId": "d20f2edf-cc2a-438a-8016-1fa35ab52373"
      },
      "source": [
        "agr_usage.sort_values(by=['Value'], ascending=False)"
      ],
      "execution_count": 9,
      "outputs": [
        {
          "output_type": "execute_result",
          "data": {
            "text/html": [
              "<div>\n",
              "<style scoped>\n",
              "    .dataframe tbody tr th:only-of-type {\n",
              "        vertical-align: middle;\n",
              "    }\n",
              "\n",
              "    .dataframe tbody tr th {\n",
              "        vertical-align: top;\n",
              "    }\n",
              "\n",
              "    .dataframe thead th {\n",
              "        text-align: right;\n",
              "    }\n",
              "</style>\n",
              "<table border=\"1\" class=\"dataframe\">\n",
              "  <thead>\n",
              "    <tr style=\"text-align: right;\">\n",
              "      <th></th>\n",
              "      <th>Area</th>\n",
              "      <th>Item</th>\n",
              "      <th>Element</th>\n",
              "      <th>Year</th>\n",
              "      <th>Unit</th>\n",
              "      <th>Value</th>\n",
              "    </tr>\n",
              "  </thead>\n",
              "  <tbody>\n",
              "    <tr>\n",
              "      <th>19837</th>\n",
              "      <td>Brazil</td>\n",
              "      <td>Potassium chloride (muriate of potash) (MOP)</td>\n",
              "      <td>Agricultural Use</td>\n",
              "      <td>2013</td>\n",
              "      <td>tonnes</td>\n",
              "      <td>8594045.04</td>\n",
              "    </tr>\n",
              "    <tr>\n",
              "      <th>19835</th>\n",
              "      <td>Brazil</td>\n",
              "      <td>Potassium chloride (muriate of potash) (MOP)</td>\n",
              "      <td>Agricultural Use</td>\n",
              "      <td>2011</td>\n",
              "      <td>tonnes</td>\n",
              "      <td>8039204.00</td>\n",
              "    </tr>\n",
              "    <tr>\n",
              "      <th>19836</th>\n",
              "      <td>Brazil</td>\n",
              "      <td>Potassium chloride (muriate of potash) (MOP)</td>\n",
              "      <td>Agricultural Use</td>\n",
              "      <td>2012</td>\n",
              "      <td>tonnes</td>\n",
              "      <td>7889862.00</td>\n",
              "    </tr>\n",
              "    <tr>\n",
              "      <th>19831</th>\n",
              "      <td>Brazil</td>\n",
              "      <td>Potassium chloride (muriate of potash) (MOP)</td>\n",
              "      <td>Agricultural Use</td>\n",
              "      <td>2007</td>\n",
              "      <td>tonnes</td>\n",
              "      <td>7087687.00</td>\n",
              "    </tr>\n",
              "    <tr>\n",
              "      <th>19832</th>\n",
              "      <td>Brazil</td>\n",
              "      <td>Potassium chloride (muriate of potash) (MOP)</td>\n",
              "      <td>Agricultural Use</td>\n",
              "      <td>2008</td>\n",
              "      <td>tonnes</td>\n",
              "      <td>7087687.00</td>\n",
              "    </tr>\n",
              "    <tr>\n",
              "      <th>...</th>\n",
              "      <td>...</td>\n",
              "      <td>...</td>\n",
              "      <td>...</td>\n",
              "      <td>...</td>\n",
              "      <td>...</td>\n",
              "      <td>...</td>\n",
              "    </tr>\n",
              "    <tr>\n",
              "      <th>19584</th>\n",
              "      <td>Brazil</td>\n",
              "      <td>Other potassic fertilizers, n.e.c.</td>\n",
              "      <td>Agricultural Use</td>\n",
              "      <td>2016</td>\n",
              "      <td>tonnes</td>\n",
              "      <td>0.00</td>\n",
              "    </tr>\n",
              "    <tr>\n",
              "      <th>19583</th>\n",
              "      <td>Brazil</td>\n",
              "      <td>Other potassic fertilizers, n.e.c.</td>\n",
              "      <td>Agricultural Use</td>\n",
              "      <td>2015</td>\n",
              "      <td>tonnes</td>\n",
              "      <td>0.00</td>\n",
              "    </tr>\n",
              "    <tr>\n",
              "      <th>19582</th>\n",
              "      <td>Brazil</td>\n",
              "      <td>Other potassic fertilizers, n.e.c.</td>\n",
              "      <td>Agricultural Use</td>\n",
              "      <td>2014</td>\n",
              "      <td>tonnes</td>\n",
              "      <td>0.00</td>\n",
              "    </tr>\n",
              "    <tr>\n",
              "      <th>18656</th>\n",
              "      <td>Brazil</td>\n",
              "      <td>Ammonia, anhydrous</td>\n",
              "      <td>Agricultural Use</td>\n",
              "      <td>2013</td>\n",
              "      <td>tonnes</td>\n",
              "      <td>0.00</td>\n",
              "    </tr>\n",
              "    <tr>\n",
              "      <th>20353</th>\n",
              "      <td>Brazil</td>\n",
              "      <td>Urea and ammonium nitrate solutions (UAN)</td>\n",
              "      <td>Agricultural Use</td>\n",
              "      <td>2017</td>\n",
              "      <td>tonnes</td>\n",
              "      <td>0.00</td>\n",
              "    </tr>\n",
              "  </tbody>\n",
              "</table>\n",
              "<p>252 rows × 6 columns</p>\n",
              "</div>"
            ],
            "text/plain": [
              "         Area                                          Item  ...    Unit       Value\n",
              "19837  Brazil  Potassium chloride (muriate of potash) (MOP)  ...  tonnes  8594045.04\n",
              "19835  Brazil  Potassium chloride (muriate of potash) (MOP)  ...  tonnes  8039204.00\n",
              "19836  Brazil  Potassium chloride (muriate of potash) (MOP)  ...  tonnes  7889862.00\n",
              "19831  Brazil  Potassium chloride (muriate of potash) (MOP)  ...  tonnes  7087687.00\n",
              "19832  Brazil  Potassium chloride (muriate of potash) (MOP)  ...  tonnes  7087687.00\n",
              "...       ...                                           ...  ...     ...         ...\n",
              "19584  Brazil            Other potassic fertilizers, n.e.c.  ...  tonnes        0.00\n",
              "19583  Brazil            Other potassic fertilizers, n.e.c.  ...  tonnes        0.00\n",
              "19582  Brazil            Other potassic fertilizers, n.e.c.  ...  tonnes        0.00\n",
              "18656  Brazil                            Ammonia, anhydrous  ...  tonnes        0.00\n",
              "20353  Brazil     Urea and ammonium nitrate solutions (UAN)  ...  tonnes        0.00\n",
              "\n",
              "[252 rows x 6 columns]"
            ]
          },
          "metadata": {
            "tags": []
          },
          "execution_count": 9
        }
      ]
    },
    {
      "cell_type": "markdown",
      "metadata": {
        "id": "OKRnJJe_HRe-",
        "colab_type": "text"
      },
      "source": [
        "# Analysing agricultural use of fertilizers:"
      ]
    },
    {
      "cell_type": "code",
      "metadata": {
        "id": "oJE4Z6GuLB10",
        "colab_type": "code",
        "colab": {
          "base_uri": "https://localhost:8080/",
          "height": 542
        },
        "outputId": "50213af0-f9d8-47b5-ea2e-249bedd75c64"
      },
      "source": [
        "fig = px.area(agr_usage, x=\"Year\", y=\"Value\", color=\"Item\", line_group=\"Item\", title='Agricultural usage of fertilizers in Brazil')\n",
        "fig.show()"
      ],
      "execution_count": 19,
      "outputs": [
        {
          "output_type": "display_data",
          "data": {
            "text/html": [
              "<html>\n",
              "<head><meta charset=\"utf-8\" /></head>\n",
              "<body>\n",
              "    <div>\n",
              "            <script src=\"https://cdnjs.cloudflare.com/ajax/libs/mathjax/2.7.5/MathJax.js?config=TeX-AMS-MML_SVG\"></script><script type=\"text/javascript\">if (window.MathJax) {MathJax.Hub.Config({SVG: {font: \"STIX-Web\"}});}</script>\n",
              "                <script type=\"text/javascript\">window.PlotlyConfig = {MathJaxConfig: 'local'};</script>\n",
              "        <script src=\"https://cdn.plot.ly/plotly-latest.min.js\"></script>    \n",
              "            <div id=\"afb262df-9386-4bbc-8111-f9f5d61d95f7\" class=\"plotly-graph-div\" style=\"height:525px; width:100%;\"></div>\n",
              "            <script type=\"text/javascript\">\n",
              "                \n",
              "                    window.PLOTLYENV=window.PLOTLYENV || {};\n",
              "                    \n",
              "                if (document.getElementById(\"afb262df-9386-4bbc-8111-f9f5d61d95f7\")) {\n",
              "                    Plotly.newPlot(\n",
              "                        'afb262df-9386-4bbc-8111-f9f5d61d95f7',\n",
              "                        [{\"hoverlabel\": {\"namelength\": 0}, \"hovertemplate\": \"Item=Ammonia, anhydrous<br>Year=%{x}<br>Value=%{y}\", \"legendgroup\": \"Item=Ammonia, anhydrous\", \"line\": {\"color\": \"#636efa\"}, \"mode\": \"lines\", \"name\": \"Item=Ammonia, anhydrous\", \"orientation\": \"v\", \"showlegend\": true, \"stackgroup\": \"1\", \"type\": \"scatter\", \"x\": [2012, 2013, 2014, 2015, 2016, 2017], \"xaxis\": \"x\", \"y\": [0.0, 0.0, 660893.0, 699648.0, 724424.0, 486584.0], \"yaxis\": \"y\"}, {\"hoverlabel\": {\"namelength\": 0}, \"hovertemplate\": \"Item=Ammonium nitrate (AN)<br>Year=%{x}<br>Value=%{y}\", \"legendgroup\": \"Item=Ammonium nitrate (AN)\", \"line\": {\"color\": \"#EF553B\"}, \"mode\": \"lines\", \"name\": \"Item=Ammonium nitrate (AN)\", \"orientation\": \"v\", \"showlegend\": true, \"stackgroup\": \"1\", \"type\": \"scatter\", \"x\": [2002, 2003, 2004, 2005, 2006, 2007, 2008, 2009, 2010, 2011, 2012, 2013, 2014, 2015, 2016, 2017], \"xaxis\": \"x\", \"y\": [939031.0, 745665.0, 497712.0, 573402.0, 600854.0, 992677.0, 992677.0, 1239491.0, 1211306.0, 1689132.0, 1681156.0, 1579848.37, 278586.0, 288094.0, 296375.0, 215884.0], \"yaxis\": \"y\"}, {\"hoverlabel\": {\"namelength\": 0}, \"hovertemplate\": \"Item=Ammonium sulphate<br>Year=%{x}<br>Value=%{y}\", \"legendgroup\": \"Item=Ammonium sulphate\", \"line\": {\"color\": \"#00cc96\"}, \"mode\": \"lines\", \"name\": \"Item=Ammonium sulphate\", \"orientation\": \"v\", \"showlegend\": true, \"stackgroup\": \"1\", \"type\": \"scatter\", \"x\": [2002, 2003, 2004, 2005, 2006, 2007, 2008, 2009, 2010, 2011, 2012, 2013, 2014, 2015, 2016, 2017], \"xaxis\": \"x\", \"y\": [1430570.0, 2007494.0, 1798408.0, 1600768.0, 1810213.0, 1631473.0, 1631473.0, 1839159.0, 1822472.0, 2176526.0, 2037830.0, 1994633.59, 302551.0, 255277.0, 202460.0, 263842.0], \"yaxis\": \"y\"}, {\"hoverlabel\": {\"namelength\": 0}, \"hovertemplate\": \"Item=Calcium ammonium nitrate (CAN) and other mixtures with calcium carbonate<br>Year=%{x}<br>Value=%{y}\", \"legendgroup\": \"Item=Calcium ammonium nitrate (CAN) and other mixtures with calcium carbonate\", \"line\": {\"color\": \"#ab63fa\"}, \"mode\": \"lines\", \"name\": \"Item=Calcium ammonium nitrate (CAN) and other mixtures with calcium carbonate\", \"orientation\": \"v\", \"showlegend\": true, \"stackgroup\": \"1\", \"type\": \"scatter\", \"x\": [2002, 2003, 2004, 2005, 2006, 2007, 2008, 2009, 2010, 2011, 2012, 2013, 2014, 2015, 2016, 2017], \"xaxis\": \"x\", \"y\": [4096.0, 23922.0, 13066.0, 19408.0, 1451.0, 25943.0, 25943.0, 81628.0, 173872.0, 236670.0, 341533.0, 216704.84, 0.0, 0.0, 0.0, 0.0], \"yaxis\": \"y\"}, {\"hoverlabel\": {\"namelength\": 0}, \"hovertemplate\": \"Item=Diammonium phosphate (DAP)<br>Year=%{x}<br>Value=%{y}\", \"legendgroup\": \"Item=Diammonium phosphate (DAP)\", \"line\": {\"color\": \"#FFA15A\"}, \"mode\": \"lines\", \"name\": \"Item=Diammonium phosphate (DAP)\", \"orientation\": \"v\", \"showlegend\": true, \"stackgroup\": \"1\", \"type\": \"scatter\", \"x\": [2002, 2003, 2004, 2005, 2006, 2007, 2008, 2009, 2010, 2011, 2012, 2013, 2014, 2015, 2016, 2017], \"xaxis\": \"x\", \"y\": [140103.0, 269226.0, 279128.0, 163662.0, 240570.0, 619575.0, 490921.0, 283673.0, 357398.0, 464654.0, 696216.0, 841031.53, 0.0, 0.0, 0.0, 0.0], \"yaxis\": \"y\"}, {\"hoverlabel\": {\"namelength\": 0}, \"hovertemplate\": \"Item=Fertilizers n.e.c.<br>Year=%{x}<br>Value=%{y}\", \"legendgroup\": \"Item=Fertilizers n.e.c.\", \"line\": {\"color\": \"#19d3f3\"}, \"mode\": \"lines\", \"name\": \"Item=Fertilizers n.e.c.\", \"orientation\": \"v\", \"showlegend\": true, \"stackgroup\": \"1\", \"type\": \"scatter\", \"x\": [2013, 2014, 2015, 2016, 2017], \"xaxis\": \"x\", \"y\": [167583.35, 0.0, 0.0, 0.0, 0.0], \"yaxis\": \"y\"}, {\"hoverlabel\": {\"namelength\": 0}, \"hovertemplate\": \"Item=Monoammonium phosphate (MAP)<br>Year=%{x}<br>Value=%{y}\", \"legendgroup\": \"Item=Monoammonium phosphate (MAP)\", \"line\": {\"color\": \"#FF6692\"}, \"mode\": \"lines\", \"name\": \"Item=Monoammonium phosphate (MAP)\", \"orientation\": \"v\", \"showlegend\": true, \"stackgroup\": \"1\", \"type\": \"scatter\", \"x\": [2002, 2003, 2004, 2005, 2006, 2007, 2008, 2009, 2010, 2011, 2012, 2013, 2014, 2015, 2016, 2017], \"xaxis\": \"x\", \"y\": [2245023.0, 2910972.0, 3119238.0, 2117597.0, 2219365.0, 2663264.0, 2184047.0, 1892484.0, 2189529.0, 2942813.0, 3108170.0, 3803523.27, 1173197.0, 1220400.0, 1153823.0, 1184560.0], \"yaxis\": \"y\"}, {\"hoverlabel\": {\"namelength\": 0}, \"hovertemplate\": \"Item=NPK fertilizers<br>Year=%{x}<br>Value=%{y}\", \"legendgroup\": \"Item=NPK fertilizers\", \"line\": {\"color\": \"#B6E880\"}, \"mode\": \"lines\", \"name\": \"Item=NPK fertilizers\", \"orientation\": \"v\", \"showlegend\": true, \"stackgroup\": \"1\", \"type\": \"scatter\", \"x\": [2004, 2005, 2006, 2007, 2008, 2013, 2014, 2015, 2016, 2017], \"xaxis\": \"x\", \"y\": [316680.0, 97136.0, 43281.0, 581234.0, 112976.0, 0.0, 0.0, 0.0, 0.0, 0.0], \"yaxis\": \"y\"}, {\"hoverlabel\": {\"namelength\": 0}, \"hovertemplate\": \"Item=Other nitrogenous fertilizers, n.e.c.<br>Year=%{x}<br>Value=%{y}\", \"legendgroup\": \"Item=Other nitrogenous fertilizers, n.e.c.\", \"line\": {\"color\": \"#FF97FF\"}, \"mode\": \"lines\", \"name\": \"Item=Other nitrogenous fertilizers, n.e.c.\", \"orientation\": \"v\", \"showlegend\": true, \"stackgroup\": \"1\", \"type\": \"scatter\", \"x\": [2013, 2014, 2015, 2016, 2017], \"xaxis\": \"x\", \"y\": [133286.37, 0.0, 0.0, 0.0, 0.0], \"yaxis\": \"y\"}, {\"hoverlabel\": {\"namelength\": 0}, \"hovertemplate\": \"Item=Other NK compounds<br>Year=%{x}<br>Value=%{y}\", \"legendgroup\": \"Item=Other NK compounds\", \"line\": {\"color\": \"#FECB52\"}, \"mode\": \"lines\", \"name\": \"Item=Other NK compounds\", \"orientation\": \"v\", \"showlegend\": true, \"stackgroup\": \"1\", \"type\": \"scatter\", \"x\": [2012, 2013, 2014, 2015, 2016, 2017], \"xaxis\": \"x\", \"y\": [47975.0, 0.0, 0.0, 0.0, 0.0, 0.0], \"yaxis\": \"y\"}, {\"hoverlabel\": {\"namelength\": 0}, \"hovertemplate\": \"Item=Other NP compounds<br>Year=%{x}<br>Value=%{y}\", \"legendgroup\": \"Item=Other NP compounds\", \"line\": {\"color\": \"#636efa\"}, \"mode\": \"lines\", \"name\": \"Item=Other NP compounds\", \"orientation\": \"v\", \"showlegend\": true, \"stackgroup\": \"1\", \"type\": \"scatter\", \"x\": [2004, 2005, 2006, 2007, 2008, 2009, 2010, 2011, 2012, 2013, 2014, 2015, 2016, 2017], \"xaxis\": \"x\", \"y\": [276489.0, 286220.0, 285117.0, 280673.0, 576588.0, 228781.0, 450569.0, 1086755.0, 1092631.0, 1547535.23, 151622.0, 140547.0, 160956.0, 144271.0], \"yaxis\": \"y\"}, {\"hoverlabel\": {\"namelength\": 0}, \"hovertemplate\": \"Item=Other phosphatic fertilizers, n.e.c.<br>Year=%{x}<br>Value=%{y}\", \"legendgroup\": \"Item=Other phosphatic fertilizers, n.e.c.\", \"line\": {\"color\": \"#EF553B\"}, \"mode\": \"lines\", \"name\": \"Item=Other phosphatic fertilizers, n.e.c.\", \"orientation\": \"v\", \"showlegend\": true, \"stackgroup\": \"1\", \"type\": \"scatter\", \"x\": [2012, 2013, 2014, 2015, 2016, 2017], \"xaxis\": \"x\", \"y\": [380117.0, 37711.4, 46956.0, 63674.0, 100107.0, 117463.0], \"yaxis\": \"y\"}, {\"hoverlabel\": {\"namelength\": 0}, \"hovertemplate\": \"Item=Other potassic fertilizers, n.e.c.<br>Year=%{x}<br>Value=%{y}\", \"legendgroup\": \"Item=Other potassic fertilizers, n.e.c.\", \"line\": {\"color\": \"#00cc96\"}, \"mode\": \"lines\", \"name\": \"Item=Other potassic fertilizers, n.e.c.\", \"orientation\": \"v\", \"showlegend\": true, \"stackgroup\": \"1\", \"type\": \"scatter\", \"x\": [2013, 2014, 2015, 2016, 2017], \"xaxis\": \"x\", \"y\": [14515.24, 0.0, 0.0, 0.0, 0.0], \"yaxis\": \"y\"}, {\"hoverlabel\": {\"namelength\": 0}, \"hovertemplate\": \"Item=Phosphate rock<br>Year=%{x}<br>Value=%{y}\", \"legendgroup\": \"Item=Phosphate rock\", \"line\": {\"color\": \"#ab63fa\"}, \"mode\": \"lines\", \"name\": \"Item=Phosphate rock\", \"orientation\": \"v\", \"showlegend\": true, \"stackgroup\": \"1\", \"type\": \"scatter\", \"x\": [2012, 2013, 2014, 2015, 2016, 2017], \"xaxis\": \"x\", \"y\": [95600.0, 0.0, 5238285.0, 5035554.0, 4582405.0, 4797702.0], \"yaxis\": \"y\"}, {\"hoverlabel\": {\"namelength\": 0}, \"hovertemplate\": \"Item=PK compounds<br>Year=%{x}<br>Value=%{y}\", \"legendgroup\": \"Item=PK compounds\", \"line\": {\"color\": \"#FFA15A\"}, \"mode\": \"lines\", \"name\": \"Item=PK compounds\", \"orientation\": \"v\", \"showlegend\": true, \"stackgroup\": \"1\", \"type\": \"scatter\", \"x\": [2013, 2014, 2015, 2016, 2017], \"xaxis\": \"x\", \"y\": [0.0, 0.0, 0.0, 0.0, 0.0], \"yaxis\": \"y\"}, {\"hoverlabel\": {\"namelength\": 0}, \"hovertemplate\": \"Item=Potassium chloride (muriate of potash) (MOP)<br>Year=%{x}<br>Value=%{y}\", \"legendgroup\": \"Item=Potassium chloride (muriate of potash) (MOP)\", \"line\": {\"color\": \"#19d3f3\"}, \"mode\": \"lines\", \"name\": \"Item=Potassium chloride (muriate of potash) (MOP)\", \"orientation\": \"v\", \"showlegend\": true, \"stackgroup\": \"1\", \"type\": \"scatter\", \"x\": [2002, 2003, 2004, 2005, 2006, 2007, 2008, 2009, 2010, 2011, 2012, 2013, 2014, 2015, 2016, 2017], \"xaxis\": \"x\", \"y\": [5018349.0, 6543852.0, 7033222.0, 5691340.0, 5821071.0, 7087687.0, 7087687.0, 4068168.0, 6772956.0, 8039204.0, 7889862.0, 8594045.04, 492355.0, 481269.0, 499082.0, 484877.0], \"yaxis\": \"y\"}, {\"hoverlabel\": {\"namelength\": 0}, \"hovertemplate\": \"Item=Potassium nitrate<br>Year=%{x}<br>Value=%{y}\", \"legendgroup\": \"Item=Potassium nitrate\", \"line\": {\"color\": \"#FF6692\"}, \"mode\": \"lines\", \"name\": \"Item=Potassium nitrate\", \"orientation\": \"v\", \"showlegend\": true, \"stackgroup\": \"1\", \"type\": \"scatter\", \"x\": [2002, 2003, 2004, 2005, 2006, 2007, 2008, 2011, 2012, 2013, 2014, 2015, 2016, 2017], \"xaxis\": \"x\", \"y\": [18875.0, 22763.0, 30471.0, 40956.0, 18106.0, 21090.0, 23329.0, 9610.0, 11066.0, 9680.85, 0.0, 0.0, 0.0, 0.0], \"yaxis\": \"y\"}, {\"hoverlabel\": {\"namelength\": 0}, \"hovertemplate\": \"Item=Potassium sulphate (sulphate of potash) (SOP)<br>Year=%{x}<br>Value=%{y}\", \"legendgroup\": \"Item=Potassium sulphate (sulphate of potash) (SOP)\", \"line\": {\"color\": \"#B6E880\"}, \"mode\": \"lines\", \"name\": \"Item=Potassium sulphate (sulphate of potash) (SOP)\", \"orientation\": \"v\", \"showlegend\": true, \"stackgroup\": \"1\", \"type\": \"scatter\", \"x\": [2002, 2003, 2004, 2005, 2006, 2007, 2008, 2009, 2010, 2011, 2012, 2013, 2014, 2015, 2016, 2017], \"xaxis\": \"x\", \"y\": [46841.0, 55169.0, 84462.0, 41164.0, 52720.0, 28648.0, 28648.0, 37550.0, 33922.0, 33986.0, 49129.0, 40372.98, 0.0, 0.0, 0.0, 0.0], \"yaxis\": \"y\"}, {\"hoverlabel\": {\"namelength\": 0}, \"hovertemplate\": \"Item=Sodium nitrate<br>Year=%{x}<br>Value=%{y}\", \"legendgroup\": \"Item=Sodium nitrate\", \"line\": {\"color\": \"#FF97FF\"}, \"mode\": \"lines\", \"name\": \"Item=Sodium nitrate\", \"orientation\": \"v\", \"showlegend\": true, \"stackgroup\": \"1\", \"type\": \"scatter\", \"x\": [2013, 2014, 2015, 2016, 2017], \"xaxis\": \"x\", \"y\": [13612.71, 0.0, 0.0, 0.0, 0.0], \"yaxis\": \"y\"}, {\"hoverlabel\": {\"namelength\": 0}, \"hovertemplate\": \"Item=Superphosphates above 35%<br>Year=%{x}<br>Value=%{y}\", \"legendgroup\": \"Item=Superphosphates above 35%\", \"line\": {\"color\": \"#FECB52\"}, \"mode\": \"lines\", \"name\": \"Item=Superphosphates above 35%\", \"orientation\": \"v\", \"showlegend\": true, \"stackgroup\": \"1\", \"type\": \"scatter\", \"x\": [2002, 2003, 2004, 2005, 2006, 2007, 2008, 2009, 2010, 2011, 2012, 2013, 2014, 2015, 2016, 2017], \"xaxis\": \"x\", \"y\": [905381.0, 1383767.0, 1678024.0, 1489242.0, 1647342.49, 1816577.0, 1816577.0, 1614760.0, 1901110.0, 1919781.0, 2050507.0, 2934573.54, 915823.0, 859375.0, 854528.0, 953790.0], \"yaxis\": \"y\"}, {\"hoverlabel\": {\"namelength\": 0}, \"hovertemplate\": \"Item=Superphosphates, other<br>Year=%{x}<br>Value=%{y}\", \"legendgroup\": \"Item=Superphosphates, other\", \"line\": {\"color\": \"#636efa\"}, \"mode\": \"lines\", \"name\": \"Item=Superphosphates, other\", \"orientation\": \"v\", \"showlegend\": true, \"stackgroup\": \"1\", \"type\": \"scatter\", \"x\": [2002, 2003, 2004, 2005, 2006, 2007, 2008, 2009, 2010, 2011, 2012, 2013, 2014, 2015, 2016, 2017], \"xaxis\": \"x\", \"y\": [4578011.0, 5673676.0, 6013534.0, 4685650.0, 4553287.59, 5316441.0, 5316441.0, 4742383.0, 5670131.0, 6435374.0, 6094604.0, 4931309.0, 4626220.0, 4779825.0, 4758855.0, 4255164.0], \"yaxis\": \"y\"}, {\"hoverlabel\": {\"namelength\": 0}, \"hovertemplate\": \"Item=Urea<br>Year=%{x}<br>Value=%{y}\", \"legendgroup\": \"Item=Urea\", \"line\": {\"color\": \"#EF553B\"}, \"mode\": \"lines\", \"name\": \"Item=Urea\", \"orientation\": \"v\", \"showlegend\": true, \"stackgroup\": \"1\", \"type\": \"scatter\", \"x\": [2002, 2003, 2004, 2005, 2006, 2007, 2008, 2009, 2010, 2011, 2012, 2013, 2014, 2015, 2016, 2017], \"xaxis\": \"x\", \"y\": [1887382.0, 2708648.0, 2565872.0, 2516498.0, 2651779.0, 2889796.0, 2889796.0, 2758737.0, 3426757.0, 3967570.0, 4245873.0, 4476875.09, 830374.0, 1026801.0, 1014561.0, 564765.0], \"yaxis\": \"y\"}, {\"hoverlabel\": {\"namelength\": 0}, \"hovertemplate\": \"Item=Urea and ammonium nitrate solutions (UAN)<br>Year=%{x}<br>Value=%{y}\", \"legendgroup\": \"Item=Urea and ammonium nitrate solutions (UAN)\", \"line\": {\"color\": \"#00cc96\"}, \"mode\": \"lines\", \"name\": \"Item=Urea and ammonium nitrate solutions (UAN)\", \"orientation\": \"v\", \"showlegend\": true, \"stackgroup\": \"1\", \"type\": \"scatter\", \"x\": [2013, 2014, 2015, 2016, 2017], \"xaxis\": \"x\", \"y\": [0.0, 0.0, 0.0, 0.0, 0.0], \"yaxis\": \"y\"}],\n",
              "                        {\"legend\": {\"tracegroupgap\": 0}, \"template\": {\"data\": {\"bar\": [{\"error_x\": {\"color\": \"#2a3f5f\"}, \"error_y\": {\"color\": \"#2a3f5f\"}, \"marker\": {\"line\": {\"color\": \"#E5ECF6\", \"width\": 0.5}}, \"type\": \"bar\"}], \"barpolar\": [{\"marker\": {\"line\": {\"color\": \"#E5ECF6\", \"width\": 0.5}}, \"type\": \"barpolar\"}], \"carpet\": [{\"aaxis\": {\"endlinecolor\": \"#2a3f5f\", \"gridcolor\": \"white\", \"linecolor\": \"white\", \"minorgridcolor\": \"white\", \"startlinecolor\": \"#2a3f5f\"}, \"baxis\": {\"endlinecolor\": \"#2a3f5f\", \"gridcolor\": \"white\", \"linecolor\": \"white\", \"minorgridcolor\": \"white\", \"startlinecolor\": \"#2a3f5f\"}, \"type\": \"carpet\"}], \"choropleth\": [{\"colorbar\": {\"outlinewidth\": 0, \"ticks\": \"\"}, \"type\": \"choropleth\"}], \"contour\": [{\"colorbar\": {\"outlinewidth\": 0, \"ticks\": \"\"}, \"colorscale\": [[0.0, \"#0d0887\"], [0.1111111111111111, \"#46039f\"], [0.2222222222222222, \"#7201a8\"], [0.3333333333333333, \"#9c179e\"], [0.4444444444444444, \"#bd3786\"], [0.5555555555555556, \"#d8576b\"], [0.6666666666666666, \"#ed7953\"], [0.7777777777777778, \"#fb9f3a\"], [0.8888888888888888, \"#fdca26\"], [1.0, \"#f0f921\"]], \"type\": \"contour\"}], \"contourcarpet\": [{\"colorbar\": {\"outlinewidth\": 0, \"ticks\": \"\"}, \"type\": \"contourcarpet\"}], \"heatmap\": [{\"colorbar\": {\"outlinewidth\": 0, \"ticks\": \"\"}, \"colorscale\": [[0.0, \"#0d0887\"], [0.1111111111111111, \"#46039f\"], [0.2222222222222222, \"#7201a8\"], [0.3333333333333333, \"#9c179e\"], [0.4444444444444444, \"#bd3786\"], [0.5555555555555556, \"#d8576b\"], [0.6666666666666666, \"#ed7953\"], [0.7777777777777778, \"#fb9f3a\"], [0.8888888888888888, \"#fdca26\"], [1.0, \"#f0f921\"]], \"type\": \"heatmap\"}], \"heatmapgl\": [{\"colorbar\": {\"outlinewidth\": 0, \"ticks\": \"\"}, \"colorscale\": [[0.0, \"#0d0887\"], [0.1111111111111111, \"#46039f\"], [0.2222222222222222, \"#7201a8\"], [0.3333333333333333, \"#9c179e\"], [0.4444444444444444, \"#bd3786\"], [0.5555555555555556, \"#d8576b\"], [0.6666666666666666, \"#ed7953\"], [0.7777777777777778, \"#fb9f3a\"], [0.8888888888888888, \"#fdca26\"], [1.0, \"#f0f921\"]], \"type\": \"heatmapgl\"}], \"histogram\": [{\"marker\": {\"colorbar\": {\"outlinewidth\": 0, \"ticks\": \"\"}}, \"type\": \"histogram\"}], \"histogram2d\": [{\"colorbar\": {\"outlinewidth\": 0, \"ticks\": \"\"}, \"colorscale\": [[0.0, \"#0d0887\"], [0.1111111111111111, \"#46039f\"], [0.2222222222222222, \"#7201a8\"], [0.3333333333333333, \"#9c179e\"], [0.4444444444444444, \"#bd3786\"], [0.5555555555555556, \"#d8576b\"], [0.6666666666666666, \"#ed7953\"], [0.7777777777777778, \"#fb9f3a\"], [0.8888888888888888, \"#fdca26\"], [1.0, \"#f0f921\"]], \"type\": \"histogram2d\"}], \"histogram2dcontour\": [{\"colorbar\": {\"outlinewidth\": 0, \"ticks\": \"\"}, \"colorscale\": [[0.0, \"#0d0887\"], [0.1111111111111111, \"#46039f\"], [0.2222222222222222, \"#7201a8\"], [0.3333333333333333, \"#9c179e\"], [0.4444444444444444, \"#bd3786\"], [0.5555555555555556, \"#d8576b\"], [0.6666666666666666, \"#ed7953\"], [0.7777777777777778, \"#fb9f3a\"], [0.8888888888888888, \"#fdca26\"], [1.0, \"#f0f921\"]], \"type\": \"histogram2dcontour\"}], \"mesh3d\": [{\"colorbar\": {\"outlinewidth\": 0, \"ticks\": \"\"}, \"type\": \"mesh3d\"}], \"parcoords\": [{\"line\": {\"colorbar\": {\"outlinewidth\": 0, \"ticks\": \"\"}}, \"type\": \"parcoords\"}], \"pie\": [{\"automargin\": true, \"type\": \"pie\"}], \"scatter\": [{\"marker\": {\"colorbar\": {\"outlinewidth\": 0, \"ticks\": \"\"}}, \"type\": \"scatter\"}], \"scatter3d\": [{\"line\": {\"colorbar\": {\"outlinewidth\": 0, \"ticks\": \"\"}}, \"marker\": {\"colorbar\": {\"outlinewidth\": 0, \"ticks\": \"\"}}, \"type\": \"scatter3d\"}], \"scattercarpet\": [{\"marker\": {\"colorbar\": {\"outlinewidth\": 0, \"ticks\": \"\"}}, \"type\": \"scattercarpet\"}], \"scattergeo\": [{\"marker\": {\"colorbar\": {\"outlinewidth\": 0, \"ticks\": \"\"}}, \"type\": \"scattergeo\"}], \"scattergl\": [{\"marker\": {\"colorbar\": {\"outlinewidth\": 0, \"ticks\": \"\"}}, \"type\": \"scattergl\"}], \"scattermapbox\": [{\"marker\": {\"colorbar\": {\"outlinewidth\": 0, \"ticks\": \"\"}}, \"type\": \"scattermapbox\"}], \"scatterpolar\": [{\"marker\": {\"colorbar\": {\"outlinewidth\": 0, \"ticks\": \"\"}}, \"type\": \"scatterpolar\"}], \"scatterpolargl\": [{\"marker\": {\"colorbar\": {\"outlinewidth\": 0, \"ticks\": \"\"}}, \"type\": \"scatterpolargl\"}], \"scatterternary\": [{\"marker\": {\"colorbar\": {\"outlinewidth\": 0, \"ticks\": \"\"}}, \"type\": \"scatterternary\"}], \"surface\": [{\"colorbar\": {\"outlinewidth\": 0, \"ticks\": \"\"}, \"colorscale\": [[0.0, \"#0d0887\"], [0.1111111111111111, \"#46039f\"], [0.2222222222222222, \"#7201a8\"], [0.3333333333333333, \"#9c179e\"], [0.4444444444444444, \"#bd3786\"], [0.5555555555555556, \"#d8576b\"], [0.6666666666666666, \"#ed7953\"], [0.7777777777777778, \"#fb9f3a\"], [0.8888888888888888, \"#fdca26\"], [1.0, \"#f0f921\"]], \"type\": \"surface\"}], \"table\": [{\"cells\": {\"fill\": {\"color\": \"#EBF0F8\"}, \"line\": {\"color\": \"white\"}}, \"header\": {\"fill\": {\"color\": \"#C8D4E3\"}, \"line\": {\"color\": \"white\"}}, \"type\": \"table\"}]}, \"layout\": {\"annotationdefaults\": {\"arrowcolor\": \"#2a3f5f\", \"arrowhead\": 0, \"arrowwidth\": 1}, \"coloraxis\": {\"colorbar\": {\"outlinewidth\": 0, \"ticks\": \"\"}}, \"colorscale\": {\"diverging\": [[0, \"#8e0152\"], [0.1, \"#c51b7d\"], [0.2, \"#de77ae\"], [0.3, \"#f1b6da\"], [0.4, \"#fde0ef\"], [0.5, \"#f7f7f7\"], [0.6, \"#e6f5d0\"], [0.7, \"#b8e186\"], [0.8, \"#7fbc41\"], [0.9, \"#4d9221\"], [1, \"#276419\"]], \"sequential\": [[0.0, \"#0d0887\"], [0.1111111111111111, \"#46039f\"], [0.2222222222222222, \"#7201a8\"], [0.3333333333333333, \"#9c179e\"], [0.4444444444444444, \"#bd3786\"], [0.5555555555555556, \"#d8576b\"], [0.6666666666666666, \"#ed7953\"], [0.7777777777777778, \"#fb9f3a\"], [0.8888888888888888, \"#fdca26\"], [1.0, \"#f0f921\"]], \"sequentialminus\": [[0.0, \"#0d0887\"], [0.1111111111111111, \"#46039f\"], [0.2222222222222222, \"#7201a8\"], [0.3333333333333333, \"#9c179e\"], [0.4444444444444444, \"#bd3786\"], [0.5555555555555556, \"#d8576b\"], [0.6666666666666666, \"#ed7953\"], [0.7777777777777778, \"#fb9f3a\"], [0.8888888888888888, \"#fdca26\"], [1.0, \"#f0f921\"]]}, \"colorway\": [\"#636efa\", \"#EF553B\", \"#00cc96\", \"#ab63fa\", \"#FFA15A\", \"#19d3f3\", \"#FF6692\", \"#B6E880\", \"#FF97FF\", \"#FECB52\"], \"font\": {\"color\": \"#2a3f5f\"}, \"geo\": {\"bgcolor\": \"white\", \"lakecolor\": \"white\", \"landcolor\": \"#E5ECF6\", \"showlakes\": true, \"showland\": true, \"subunitcolor\": \"white\"}, \"hoverlabel\": {\"align\": \"left\"}, \"hovermode\": \"closest\", \"mapbox\": {\"style\": \"light\"}, \"paper_bgcolor\": \"white\", \"plot_bgcolor\": \"#E5ECF6\", \"polar\": {\"angularaxis\": {\"gridcolor\": \"white\", \"linecolor\": \"white\", \"ticks\": \"\"}, \"bgcolor\": \"#E5ECF6\", \"radialaxis\": {\"gridcolor\": \"white\", \"linecolor\": \"white\", \"ticks\": \"\"}}, \"scene\": {\"xaxis\": {\"backgroundcolor\": \"#E5ECF6\", \"gridcolor\": \"white\", \"gridwidth\": 2, \"linecolor\": \"white\", \"showbackground\": true, \"ticks\": \"\", \"zerolinecolor\": \"white\"}, \"yaxis\": {\"backgroundcolor\": \"#E5ECF6\", \"gridcolor\": \"white\", \"gridwidth\": 2, \"linecolor\": \"white\", \"showbackground\": true, \"ticks\": \"\", \"zerolinecolor\": \"white\"}, \"zaxis\": {\"backgroundcolor\": \"#E5ECF6\", \"gridcolor\": \"white\", \"gridwidth\": 2, \"linecolor\": \"white\", \"showbackground\": true, \"ticks\": \"\", \"zerolinecolor\": \"white\"}}, \"shapedefaults\": {\"line\": {\"color\": \"#2a3f5f\"}}, \"ternary\": {\"aaxis\": {\"gridcolor\": \"white\", \"linecolor\": \"white\", \"ticks\": \"\"}, \"baxis\": {\"gridcolor\": \"white\", \"linecolor\": \"white\", \"ticks\": \"\"}, \"bgcolor\": \"#E5ECF6\", \"caxis\": {\"gridcolor\": \"white\", \"linecolor\": \"white\", \"ticks\": \"\"}}, \"title\": {\"x\": 0.05}, \"xaxis\": {\"automargin\": true, \"gridcolor\": \"white\", \"linecolor\": \"white\", \"ticks\": \"\", \"title\": {\"standoff\": 15}, \"zerolinecolor\": \"white\", \"zerolinewidth\": 2}, \"yaxis\": {\"automargin\": true, \"gridcolor\": \"white\", \"linecolor\": \"white\", \"ticks\": \"\", \"title\": {\"standoff\": 15}, \"zerolinecolor\": \"white\", \"zerolinewidth\": 2}}}, \"title\": {\"text\": \"Agricultural usage of fertilizers in Brazil\"}, \"xaxis\": {\"anchor\": \"y\", \"domain\": [0.0, 1.0], \"title\": {\"text\": \"Year\"}}, \"yaxis\": {\"anchor\": \"x\", \"domain\": [0.0, 1.0], \"title\": {\"text\": \"Value\"}}},\n",
              "                        {\"responsive\": true}\n",
              "                    ).then(function(){\n",
              "                            \n",
              "var gd = document.getElementById('afb262df-9386-4bbc-8111-f9f5d61d95f7');\n",
              "var x = new MutationObserver(function (mutations, observer) {{\n",
              "        var display = window.getComputedStyle(gd).display;\n",
              "        if (!display || display === 'none') {{\n",
              "            console.log([gd, 'removed!']);\n",
              "            Plotly.purge(gd);\n",
              "            observer.disconnect();\n",
              "        }}\n",
              "}});\n",
              "\n",
              "// Listen for the removal of the full notebook cells\n",
              "var notebookContainer = gd.closest('#notebook-container');\n",
              "if (notebookContainer) {{\n",
              "    x.observe(notebookContainer, {childList: true});\n",
              "}}\n",
              "\n",
              "// Listen for the clearing of the current output cell\n",
              "var outputEl = gd.closest('.output');\n",
              "if (outputEl) {{\n",
              "    x.observe(outputEl, {childList: true});\n",
              "}}\n",
              "\n",
              "                        })\n",
              "                };\n",
              "                \n",
              "            </script>\n",
              "        </div>\n",
              "</body>\n",
              "</html>"
            ]
          },
          "metadata": {
            "tags": []
          }
        }
      ]
    },
    {
      "cell_type": "markdown",
      "metadata": {
        "id": "Qb_g8TGe_BUl",
        "colab_type": "text"
      },
      "source": [
        "Agricultural usage of fertilizers by country in 2017"
      ]
    },
    {
      "cell_type": "markdown",
      "metadata": {
        "id": "RG47v-K_5ROE",
        "colab_type": "text"
      },
      "source": [
        "Urea is the most used fertilizer in Brazil"
      ]
    },
    {
      "cell_type": "code",
      "metadata": {
        "id": "6cjvkUx8NkGc",
        "colab_type": "code",
        "colab": {}
      },
      "source": [
        "usage_global = df.loc[(df.Element == 'Agricultural Use')  & (df.Year == 2017)]\n",
        "countries = df.Area.unique()\n",
        "cdf = []\n",
        "adf = []\n",
        "for country in countries:\n",
        "    df_aux = usage_global.loc[usage_global.Area == country]\n",
        "    amount = df_aux.Value.sum()\n",
        "    cdf.append(country)\n",
        "    adf.append(amount)\n",
        "df_fert = pd.DataFrame({'Country': cdf, 'Amount': adf})\n",
        "df_fert = df_fert.sort_values(by=['Amount'], ascending=False)"
      ],
      "execution_count": 14,
      "outputs": []
    },
    {
      "cell_type": "code",
      "metadata": {
        "id": "QWfk-3x9NU6K",
        "colab_type": "code",
        "colab": {
          "base_uri": "https://localhost:8080/",
          "height": 542
        },
        "outputId": "206239ad-2088-48f6-d066-e43f890fbfe3"
      },
      "source": [
        "fig = px.bar(df_fert, x=df_fert.Country[:10], y=df_fert.Amount[:10], title='Countries with higher fertilizer use in 2017', color=df_fert.Amount[:10],\n",
        "             labels={'x': 'Country', 'y': 'Amount (tonnes)', 'color': 'Amount (t)'})\n",
        "fig.show()"
      ],
      "execution_count": 15,
      "outputs": [
        {
          "output_type": "display_data",
          "data": {
            "text/html": [
              "<html>\n",
              "<head><meta charset=\"utf-8\" /></head>\n",
              "<body>\n",
              "    <div>\n",
              "            <script src=\"https://cdnjs.cloudflare.com/ajax/libs/mathjax/2.7.5/MathJax.js?config=TeX-AMS-MML_SVG\"></script><script type=\"text/javascript\">if (window.MathJax) {MathJax.Hub.Config({SVG: {font: \"STIX-Web\"}});}</script>\n",
              "                <script type=\"text/javascript\">window.PlotlyConfig = {MathJaxConfig: 'local'};</script>\n",
              "        <script src=\"https://cdn.plot.ly/plotly-latest.min.js\"></script>    \n",
              "            <div id=\"c8b3fdab-f4f0-4749-a5de-275118082390\" class=\"plotly-graph-div\" style=\"height:525px; width:100%;\"></div>\n",
              "            <script type=\"text/javascript\">\n",
              "                \n",
              "                    window.PLOTLYENV=window.PLOTLYENV || {};\n",
              "                    \n",
              "                if (document.getElementById(\"c8b3fdab-f4f0-4749-a5de-275118082390\")) {\n",
              "                    Plotly.newPlot(\n",
              "                        'c8b3fdab-f4f0-4749-a5de-275118082390',\n",
              "                        [{\"alignmentgroup\": \"True\", \"hoverlabel\": {\"namelength\": 0}, \"hovertemplate\": \"Country=%{x}<br>Amount (tonnes)=%{y}<br>Amount (t)=%{marker.color}\", \"legendgroup\": \"\", \"marker\": {\"color\": [54996200.0, 45255287.0, 19388269.0, 13468902.0, 9807762.0, 9560207.0, 8924208.0, 8291000.0, 7778873.0, 6144749.0], \"coloraxis\": \"coloraxis\"}, \"name\": \"\", \"offsetgroup\": \"\", \"orientation\": \"v\", \"showlegend\": false, \"textposition\": \"auto\", \"type\": \"bar\", \"x\": [\"India\", \"United States of America\", \"Egypt\", \"Brazil\", \"Pakistan\", \"Indonesia\", \"France\", \"Canada\", \"Mexico\", \"Turkey\"], \"xaxis\": \"x\", \"y\": [54996200.0, 45255287.0, 19388269.0, 13468902.0, 9807762.0, 9560207.0, 8924208.0, 8291000.0, 7778873.0, 6144749.0], \"yaxis\": \"y\"}],\n",
              "                        {\"barmode\": \"relative\", \"coloraxis\": {\"colorbar\": {\"title\": {\"text\": \"Amount (t)\"}}, \"colorscale\": [[0.0, \"#0d0887\"], [0.1111111111111111, \"#46039f\"], [0.2222222222222222, \"#7201a8\"], [0.3333333333333333, \"#9c179e\"], [0.4444444444444444, \"#bd3786\"], [0.5555555555555556, \"#d8576b\"], [0.6666666666666666, \"#ed7953\"], [0.7777777777777778, \"#fb9f3a\"], [0.8888888888888888, \"#fdca26\"], [1.0, \"#f0f921\"]]}, \"legend\": {\"tracegroupgap\": 0}, \"template\": {\"data\": {\"bar\": [{\"error_x\": {\"color\": \"#2a3f5f\"}, \"error_y\": {\"color\": \"#2a3f5f\"}, \"marker\": {\"line\": {\"color\": \"#E5ECF6\", \"width\": 0.5}}, \"type\": \"bar\"}], \"barpolar\": [{\"marker\": {\"line\": {\"color\": \"#E5ECF6\", \"width\": 0.5}}, \"type\": \"barpolar\"}], \"carpet\": [{\"aaxis\": {\"endlinecolor\": \"#2a3f5f\", \"gridcolor\": \"white\", \"linecolor\": \"white\", \"minorgridcolor\": \"white\", \"startlinecolor\": \"#2a3f5f\"}, \"baxis\": {\"endlinecolor\": \"#2a3f5f\", \"gridcolor\": \"white\", \"linecolor\": \"white\", \"minorgridcolor\": \"white\", \"startlinecolor\": \"#2a3f5f\"}, \"type\": \"carpet\"}], \"choropleth\": [{\"colorbar\": {\"outlinewidth\": 0, \"ticks\": \"\"}, \"type\": \"choropleth\"}], \"contour\": [{\"colorbar\": {\"outlinewidth\": 0, \"ticks\": \"\"}, \"colorscale\": [[0.0, \"#0d0887\"], [0.1111111111111111, \"#46039f\"], [0.2222222222222222, \"#7201a8\"], [0.3333333333333333, \"#9c179e\"], [0.4444444444444444, \"#bd3786\"], [0.5555555555555556, \"#d8576b\"], [0.6666666666666666, \"#ed7953\"], [0.7777777777777778, \"#fb9f3a\"], [0.8888888888888888, \"#fdca26\"], [1.0, \"#f0f921\"]], \"type\": \"contour\"}], \"contourcarpet\": [{\"colorbar\": {\"outlinewidth\": 0, \"ticks\": \"\"}, \"type\": \"contourcarpet\"}], \"heatmap\": [{\"colorbar\": {\"outlinewidth\": 0, \"ticks\": \"\"}, \"colorscale\": [[0.0, \"#0d0887\"], [0.1111111111111111, \"#46039f\"], [0.2222222222222222, \"#7201a8\"], [0.3333333333333333, \"#9c179e\"], [0.4444444444444444, \"#bd3786\"], [0.5555555555555556, \"#d8576b\"], [0.6666666666666666, \"#ed7953\"], [0.7777777777777778, \"#fb9f3a\"], [0.8888888888888888, \"#fdca26\"], [1.0, \"#f0f921\"]], \"type\": \"heatmap\"}], \"heatmapgl\": [{\"colorbar\": {\"outlinewidth\": 0, \"ticks\": \"\"}, \"colorscale\": [[0.0, \"#0d0887\"], [0.1111111111111111, \"#46039f\"], [0.2222222222222222, \"#7201a8\"], [0.3333333333333333, \"#9c179e\"], [0.4444444444444444, \"#bd3786\"], [0.5555555555555556, \"#d8576b\"], [0.6666666666666666, \"#ed7953\"], [0.7777777777777778, \"#fb9f3a\"], [0.8888888888888888, \"#fdca26\"], [1.0, \"#f0f921\"]], \"type\": \"heatmapgl\"}], \"histogram\": [{\"marker\": {\"colorbar\": {\"outlinewidth\": 0, \"ticks\": \"\"}}, \"type\": \"histogram\"}], \"histogram2d\": [{\"colorbar\": {\"outlinewidth\": 0, \"ticks\": \"\"}, \"colorscale\": [[0.0, \"#0d0887\"], [0.1111111111111111, \"#46039f\"], [0.2222222222222222, \"#7201a8\"], [0.3333333333333333, \"#9c179e\"], [0.4444444444444444, \"#bd3786\"], [0.5555555555555556, \"#d8576b\"], [0.6666666666666666, \"#ed7953\"], [0.7777777777777778, \"#fb9f3a\"], [0.8888888888888888, \"#fdca26\"], [1.0, \"#f0f921\"]], \"type\": \"histogram2d\"}], \"histogram2dcontour\": [{\"colorbar\": {\"outlinewidth\": 0, \"ticks\": \"\"}, \"colorscale\": [[0.0, \"#0d0887\"], [0.1111111111111111, \"#46039f\"], [0.2222222222222222, \"#7201a8\"], [0.3333333333333333, \"#9c179e\"], [0.4444444444444444, \"#bd3786\"], [0.5555555555555556, \"#d8576b\"], [0.6666666666666666, \"#ed7953\"], [0.7777777777777778, \"#fb9f3a\"], [0.8888888888888888, \"#fdca26\"], [1.0, \"#f0f921\"]], \"type\": \"histogram2dcontour\"}], \"mesh3d\": [{\"colorbar\": {\"outlinewidth\": 0, \"ticks\": \"\"}, \"type\": \"mesh3d\"}], \"parcoords\": [{\"line\": {\"colorbar\": {\"outlinewidth\": 0, \"ticks\": \"\"}}, \"type\": \"parcoords\"}], \"pie\": [{\"automargin\": true, \"type\": \"pie\"}], \"scatter\": [{\"marker\": {\"colorbar\": {\"outlinewidth\": 0, \"ticks\": \"\"}}, \"type\": \"scatter\"}], \"scatter3d\": [{\"line\": {\"colorbar\": {\"outlinewidth\": 0, \"ticks\": \"\"}}, \"marker\": {\"colorbar\": {\"outlinewidth\": 0, \"ticks\": \"\"}}, \"type\": \"scatter3d\"}], \"scattercarpet\": [{\"marker\": {\"colorbar\": {\"outlinewidth\": 0, \"ticks\": \"\"}}, \"type\": \"scattercarpet\"}], \"scattergeo\": [{\"marker\": {\"colorbar\": {\"outlinewidth\": 0, \"ticks\": \"\"}}, \"type\": \"scattergeo\"}], \"scattergl\": [{\"marker\": {\"colorbar\": {\"outlinewidth\": 0, \"ticks\": \"\"}}, \"type\": \"scattergl\"}], \"scattermapbox\": [{\"marker\": {\"colorbar\": {\"outlinewidth\": 0, \"ticks\": \"\"}}, \"type\": \"scattermapbox\"}], \"scatterpolar\": [{\"marker\": {\"colorbar\": {\"outlinewidth\": 0, \"ticks\": \"\"}}, \"type\": \"scatterpolar\"}], \"scatterpolargl\": [{\"marker\": {\"colorbar\": {\"outlinewidth\": 0, \"ticks\": \"\"}}, \"type\": \"scatterpolargl\"}], \"scatterternary\": [{\"marker\": {\"colorbar\": {\"outlinewidth\": 0, \"ticks\": \"\"}}, \"type\": \"scatterternary\"}], \"surface\": [{\"colorbar\": {\"outlinewidth\": 0, \"ticks\": \"\"}, \"colorscale\": [[0.0, \"#0d0887\"], [0.1111111111111111, \"#46039f\"], [0.2222222222222222, \"#7201a8\"], [0.3333333333333333, \"#9c179e\"], [0.4444444444444444, \"#bd3786\"], [0.5555555555555556, \"#d8576b\"], [0.6666666666666666, \"#ed7953\"], [0.7777777777777778, \"#fb9f3a\"], [0.8888888888888888, \"#fdca26\"], [1.0, \"#f0f921\"]], \"type\": \"surface\"}], \"table\": [{\"cells\": {\"fill\": {\"color\": \"#EBF0F8\"}, \"line\": {\"color\": \"white\"}}, \"header\": {\"fill\": {\"color\": \"#C8D4E3\"}, \"line\": {\"color\": \"white\"}}, \"type\": \"table\"}]}, \"layout\": {\"annotationdefaults\": {\"arrowcolor\": \"#2a3f5f\", \"arrowhead\": 0, \"arrowwidth\": 1}, \"coloraxis\": {\"colorbar\": {\"outlinewidth\": 0, \"ticks\": \"\"}}, \"colorscale\": {\"diverging\": [[0, \"#8e0152\"], [0.1, \"#c51b7d\"], [0.2, \"#de77ae\"], [0.3, \"#f1b6da\"], [0.4, \"#fde0ef\"], [0.5, \"#f7f7f7\"], [0.6, \"#e6f5d0\"], [0.7, \"#b8e186\"], [0.8, \"#7fbc41\"], [0.9, \"#4d9221\"], [1, \"#276419\"]], \"sequential\": [[0.0, \"#0d0887\"], [0.1111111111111111, \"#46039f\"], [0.2222222222222222, \"#7201a8\"], [0.3333333333333333, \"#9c179e\"], [0.4444444444444444, \"#bd3786\"], [0.5555555555555556, \"#d8576b\"], [0.6666666666666666, \"#ed7953\"], [0.7777777777777778, \"#fb9f3a\"], [0.8888888888888888, \"#fdca26\"], [1.0, \"#f0f921\"]], \"sequentialminus\": [[0.0, \"#0d0887\"], [0.1111111111111111, \"#46039f\"], [0.2222222222222222, \"#7201a8\"], [0.3333333333333333, \"#9c179e\"], [0.4444444444444444, \"#bd3786\"], [0.5555555555555556, \"#d8576b\"], [0.6666666666666666, \"#ed7953\"], [0.7777777777777778, \"#fb9f3a\"], [0.8888888888888888, \"#fdca26\"], [1.0, \"#f0f921\"]]}, \"colorway\": [\"#636efa\", \"#EF553B\", \"#00cc96\", \"#ab63fa\", \"#FFA15A\", \"#19d3f3\", \"#FF6692\", \"#B6E880\", \"#FF97FF\", \"#FECB52\"], \"font\": {\"color\": \"#2a3f5f\"}, \"geo\": {\"bgcolor\": \"white\", \"lakecolor\": \"white\", \"landcolor\": \"#E5ECF6\", \"showlakes\": true, \"showland\": true, \"subunitcolor\": \"white\"}, \"hoverlabel\": {\"align\": \"left\"}, \"hovermode\": \"closest\", \"mapbox\": {\"style\": \"light\"}, \"paper_bgcolor\": \"white\", \"plot_bgcolor\": \"#E5ECF6\", \"polar\": {\"angularaxis\": {\"gridcolor\": \"white\", \"linecolor\": \"white\", \"ticks\": \"\"}, \"bgcolor\": \"#E5ECF6\", \"radialaxis\": {\"gridcolor\": \"white\", \"linecolor\": \"white\", \"ticks\": \"\"}}, \"scene\": {\"xaxis\": {\"backgroundcolor\": \"#E5ECF6\", \"gridcolor\": \"white\", \"gridwidth\": 2, \"linecolor\": \"white\", \"showbackground\": true, \"ticks\": \"\", \"zerolinecolor\": \"white\"}, \"yaxis\": {\"backgroundcolor\": \"#E5ECF6\", \"gridcolor\": \"white\", \"gridwidth\": 2, \"linecolor\": \"white\", \"showbackground\": true, \"ticks\": \"\", \"zerolinecolor\": \"white\"}, \"zaxis\": {\"backgroundcolor\": \"#E5ECF6\", \"gridcolor\": \"white\", \"gridwidth\": 2, \"linecolor\": \"white\", \"showbackground\": true, \"ticks\": \"\", \"zerolinecolor\": \"white\"}}, \"shapedefaults\": {\"line\": {\"color\": \"#2a3f5f\"}}, \"ternary\": {\"aaxis\": {\"gridcolor\": \"white\", \"linecolor\": \"white\", \"ticks\": \"\"}, \"baxis\": {\"gridcolor\": \"white\", \"linecolor\": \"white\", \"ticks\": \"\"}, \"bgcolor\": \"#E5ECF6\", \"caxis\": {\"gridcolor\": \"white\", \"linecolor\": \"white\", \"ticks\": \"\"}}, \"title\": {\"x\": 0.05}, \"xaxis\": {\"automargin\": true, \"gridcolor\": \"white\", \"linecolor\": \"white\", \"ticks\": \"\", \"title\": {\"standoff\": 15}, \"zerolinecolor\": \"white\", \"zerolinewidth\": 2}, \"yaxis\": {\"automargin\": true, \"gridcolor\": \"white\", \"linecolor\": \"white\", \"ticks\": \"\", \"title\": {\"standoff\": 15}, \"zerolinecolor\": \"white\", \"zerolinewidth\": 2}}}, \"title\": {\"text\": \"Countries with higher fertilizer use in 2017\"}, \"xaxis\": {\"anchor\": \"y\", \"domain\": [0.0, 1.0], \"title\": {\"text\": \"Country\"}}, \"yaxis\": {\"anchor\": \"x\", \"domain\": [0.0, 1.0], \"title\": {\"text\": \"Amount (tonnes)\"}}},\n",
              "                        {\"responsive\": true}\n",
              "                    ).then(function(){\n",
              "                            \n",
              "var gd = document.getElementById('c8b3fdab-f4f0-4749-a5de-275118082390');\n",
              "var x = new MutationObserver(function (mutations, observer) {{\n",
              "        var display = window.getComputedStyle(gd).display;\n",
              "        if (!display || display === 'none') {{\n",
              "            console.log([gd, 'removed!']);\n",
              "            Plotly.purge(gd);\n",
              "            observer.disconnect();\n",
              "        }}\n",
              "}});\n",
              "\n",
              "// Listen for the removal of the full notebook cells\n",
              "var notebookContainer = gd.closest('#notebook-container');\n",
              "if (notebookContainer) {{\n",
              "    x.observe(notebookContainer, {childList: true});\n",
              "}}\n",
              "\n",
              "// Listen for the clearing of the current output cell\n",
              "var outputEl = gd.closest('.output');\n",
              "if (outputEl) {{\n",
              "    x.observe(outputEl, {childList: true});\n",
              "}}\n",
              "\n",
              "                        })\n",
              "                };\n",
              "                \n",
              "            </script>\n",
              "        </div>\n",
              "</body>\n",
              "</html>"
            ]
          },
          "metadata": {
            "tags": []
          }
        }
      ]
    },
    {
      "cell_type": "markdown",
      "metadata": {
        "id": "tZOrVr0t2Fmu",
        "colab_type": "text"
      },
      "source": [
        "# Production and Export of fertilizers"
      ]
    },
    {
      "cell_type": "code",
      "metadata": {
        "id": "aM3blSPF2KAW",
        "colab_type": "code",
        "colab": {
          "base_uri": "https://localhost:8080/",
          "height": 419
        },
        "outputId": "60358baa-8312-482c-ab74-046f98dc2284"
      },
      "source": [
        "fert_prod = df_br.loc[df_br.Element == 'Production']\n",
        "fert_prod.sort_values(by=['Value'], ascending=False)"
      ],
      "execution_count": 17,
      "outputs": [
        {
          "output_type": "execute_result",
          "data": {
            "text/html": [
              "<div>\n",
              "<style scoped>\n",
              "    .dataframe tbody tr th:only-of-type {\n",
              "        vertical-align: middle;\n",
              "    }\n",
              "\n",
              "    .dataframe tbody tr th {\n",
              "        vertical-align: top;\n",
              "    }\n",
              "\n",
              "    .dataframe thead th {\n",
              "        text-align: right;\n",
              "    }\n",
              "</style>\n",
              "<table border=\"1\" class=\"dataframe\">\n",
              "  <thead>\n",
              "    <tr style=\"text-align: right;\">\n",
              "      <th></th>\n",
              "      <th>Area</th>\n",
              "      <th>Item</th>\n",
              "      <th>Element</th>\n",
              "      <th>Year</th>\n",
              "      <th>Unit</th>\n",
              "      <th>Value</th>\n",
              "    </tr>\n",
              "  </thead>\n",
              "  <tbody>\n",
              "    <tr>\n",
              "      <th>19592</th>\n",
              "      <td>Brazil</td>\n",
              "      <td>Phosphate rock</td>\n",
              "      <td>Production</td>\n",
              "      <td>2008</td>\n",
              "      <td>tonnes</td>\n",
              "      <td>6292826.0</td>\n",
              "    </tr>\n",
              "    <tr>\n",
              "      <th>19591</th>\n",
              "      <td>Brazil</td>\n",
              "      <td>Phosphate rock</td>\n",
              "      <td>Production</td>\n",
              "      <td>2007</td>\n",
              "      <td>tonnes</td>\n",
              "      <td>6057579.0</td>\n",
              "    </tr>\n",
              "    <tr>\n",
              "      <th>19595</th>\n",
              "      <td>Brazil</td>\n",
              "      <td>Phosphate rock</td>\n",
              "      <td>Production</td>\n",
              "      <td>2011</td>\n",
              "      <td>tonnes</td>\n",
              "      <td>6022722.0</td>\n",
              "    </tr>\n",
              "    <tr>\n",
              "      <th>19596</th>\n",
              "      <td>Brazil</td>\n",
              "      <td>Phosphate rock</td>\n",
              "      <td>Production</td>\n",
              "      <td>2012</td>\n",
              "      <td>tonnes</td>\n",
              "      <td>6019758.0</td>\n",
              "    </tr>\n",
              "    <tr>\n",
              "      <th>19597</th>\n",
              "      <td>Brazil</td>\n",
              "      <td>Phosphate rock</td>\n",
              "      <td>Production</td>\n",
              "      <td>2013</td>\n",
              "      <td>tonnes</td>\n",
              "      <td>5940568.0</td>\n",
              "    </tr>\n",
              "    <tr>\n",
              "      <th>...</th>\n",
              "      <td>...</td>\n",
              "      <td>...</td>\n",
              "      <td>...</td>\n",
              "      <td>...</td>\n",
              "      <td>...</td>\n",
              "      <td>...</td>\n",
              "    </tr>\n",
              "    <tr>\n",
              "      <th>19336</th>\n",
              "      <td>Brazil</td>\n",
              "      <td>Other NK compounds</td>\n",
              "      <td>Production</td>\n",
              "      <td>2015</td>\n",
              "      <td>tonnes</td>\n",
              "      <td>0.0</td>\n",
              "    </tr>\n",
              "    <tr>\n",
              "      <th>19335</th>\n",
              "      <td>Brazil</td>\n",
              "      <td>Other NK compounds</td>\n",
              "      <td>Production</td>\n",
              "      <td>2014</td>\n",
              "      <td>tonnes</td>\n",
              "      <td>0.0</td>\n",
              "    </tr>\n",
              "    <tr>\n",
              "      <th>19334</th>\n",
              "      <td>Brazil</td>\n",
              "      <td>Other NK compounds</td>\n",
              "      <td>Production</td>\n",
              "      <td>2013</td>\n",
              "      <td>tonnes</td>\n",
              "      <td>0.0</td>\n",
              "    </tr>\n",
              "    <tr>\n",
              "      <th>19675</th>\n",
              "      <td>Brazil</td>\n",
              "      <td>PK compounds</td>\n",
              "      <td>Production</td>\n",
              "      <td>2016</td>\n",
              "      <td>tonnes</td>\n",
              "      <td>0.0</td>\n",
              "    </tr>\n",
              "    <tr>\n",
              "      <th>20306</th>\n",
              "      <td>Brazil</td>\n",
              "      <td>Urea and ammonium nitrate solutions (UAN)</td>\n",
              "      <td>Production</td>\n",
              "      <td>2017</td>\n",
              "      <td>tonnes</td>\n",
              "      <td>0.0</td>\n",
              "    </tr>\n",
              "  </tbody>\n",
              "</table>\n",
              "<p>227 rows × 6 columns</p>\n",
              "</div>"
            ],
            "text/plain": [
              "         Area                                       Item  ...    Unit      Value\n",
              "19592  Brazil                             Phosphate rock  ...  tonnes  6292826.0\n",
              "19591  Brazil                             Phosphate rock  ...  tonnes  6057579.0\n",
              "19595  Brazil                             Phosphate rock  ...  tonnes  6022722.0\n",
              "19596  Brazil                             Phosphate rock  ...  tonnes  6019758.0\n",
              "19597  Brazil                             Phosphate rock  ...  tonnes  5940568.0\n",
              "...       ...                                        ...  ...     ...        ...\n",
              "19336  Brazil                         Other NK compounds  ...  tonnes        0.0\n",
              "19335  Brazil                         Other NK compounds  ...  tonnes        0.0\n",
              "19334  Brazil                         Other NK compounds  ...  tonnes        0.0\n",
              "19675  Brazil                               PK compounds  ...  tonnes        0.0\n",
              "20306  Brazil  Urea and ammonium nitrate solutions (UAN)  ...  tonnes        0.0\n",
              "\n",
              "[227 rows x 6 columns]"
            ]
          },
          "metadata": {
            "tags": []
          },
          "execution_count": 17
        }
      ]
    },
    {
      "cell_type": "code",
      "metadata": {
        "id": "9xJK4RE64Xo-",
        "colab_type": "code",
        "colab": {
          "base_uri": "https://localhost:8080/",
          "height": 542
        },
        "outputId": "0a51daeb-ad62-453e-9f09-a1d7a3d76f8b"
      },
      "source": [
        "fig = px.area(fert_prod, x=\"Year\", y=\"Value\", color=\"Item\", line_group=\"Item\", title='Production of fertilizers in Brazil')\n",
        "fig.show()"
      ],
      "execution_count": 20,
      "outputs": [
        {
          "output_type": "display_data",
          "data": {
            "text/html": [
              "<html>\n",
              "<head><meta charset=\"utf-8\" /></head>\n",
              "<body>\n",
              "    <div>\n",
              "            <script src=\"https://cdnjs.cloudflare.com/ajax/libs/mathjax/2.7.5/MathJax.js?config=TeX-AMS-MML_SVG\"></script><script type=\"text/javascript\">if (window.MathJax) {MathJax.Hub.Config({SVG: {font: \"STIX-Web\"}});}</script>\n",
              "                <script type=\"text/javascript\">window.PlotlyConfig = {MathJaxConfig: 'local'};</script>\n",
              "        <script src=\"https://cdn.plot.ly/plotly-latest.min.js\"></script>    \n",
              "            <div id=\"558d3e93-9abe-455f-9b5b-80d67c884d0d\" class=\"plotly-graph-div\" style=\"height:525px; width:100%;\"></div>\n",
              "            <script type=\"text/javascript\">\n",
              "                \n",
              "                    window.PLOTLYENV=window.PLOTLYENV || {};\n",
              "                    \n",
              "                if (document.getElementById(\"558d3e93-9abe-455f-9b5b-80d67c884d0d\")) {\n",
              "                    Plotly.newPlot(\n",
              "                        '558d3e93-9abe-455f-9b5b-80d67c884d0d',\n",
              "                        [{\"hoverlabel\": {\"namelength\": 0}, \"hovertemplate\": \"Item=Ammonia, anhydrous<br>Year=%{x}<br>Value=%{y}\", \"legendgroup\": \"Item=Ammonia, anhydrous\", \"line\": {\"color\": \"#636efa\"}, \"mode\": \"lines\", \"name\": \"Item=Ammonia, anhydrous\", \"orientation\": \"v\", \"showlegend\": true, \"stackgroup\": \"1\", \"type\": \"scatter\", \"x\": [2002, 2003, 2004, 2005, 2006, 2007, 2008, 2009, 2010, 2011, 2012, 2013, 2014, 2015, 2016, 2017], \"xaxis\": \"x\", \"y\": [1248009.0, 1143059.0, 1301483.0, 1301083.0, 1315421.0, 1211604.0, 1226059.0, 1058540.0, 1176526.0, 1352598.0, 1182014.0, 1225655.0, 1060074.0, 1221803.0, 1212560.0, 911861.0], \"yaxis\": \"y\"}, {\"hoverlabel\": {\"namelength\": 0}, \"hovertemplate\": \"Item=Ammonium nitrate (AN)<br>Year=%{x}<br>Value=%{y}\", \"legendgroup\": \"Item=Ammonium nitrate (AN)\", \"line\": {\"color\": \"#EF553B\"}, \"mode\": \"lines\", \"name\": \"Item=Ammonium nitrate (AN)\", \"orientation\": \"v\", \"showlegend\": true, \"stackgroup\": \"1\", \"type\": \"scatter\", \"x\": [2002, 2003, 2004, 2005, 2006, 2007, 2008, 2009, 2010, 2011, 2012, 2013, 2014, 2015, 2016, 2017], \"xaxis\": \"x\", \"y\": [484283.0, 416835.0, 412139.0, 506335.0, 470518.0, 462060.0, 447057.0, 455159.0, 446983.0, 457897.0, 489560.0, 420513.0, 484655.0, 515348.0, 522786.0, 407838.0], \"yaxis\": \"y\"}, {\"hoverlabel\": {\"namelength\": 0}, \"hovertemplate\": \"Item=Ammonium sulphate<br>Year=%{x}<br>Value=%{y}\", \"legendgroup\": \"Item=Ammonium sulphate\", \"line\": {\"color\": \"#00cc96\"}, \"mode\": \"lines\", \"name\": \"Item=Ammonium sulphate\", \"orientation\": \"v\", \"showlegend\": true, \"stackgroup\": \"1\", \"type\": \"scatter\", \"x\": [2002, 2003, 2004, 2005, 2006, 2007, 2008, 2009, 2010, 2011, 2012, 2013, 2014, 2015, 2016, 2017], \"xaxis\": \"x\", \"y\": [213165.0, 223383.0, 240824.0, 219367.0, 236449.0, 258127.0, 219265.0, 226378.0, 293137.0, 314435.0, 295846.0, 253359.0, 338110.0, 275402.0, 258482.0, 264208.0], \"yaxis\": \"y\"}, {\"hoverlabel\": {\"namelength\": 0}, \"hovertemplate\": \"Item=Calcium ammonium nitrate (CAN) and other mixtures with calcium carbonate<br>Year=%{x}<br>Value=%{y}\", \"legendgroup\": \"Item=Calcium ammonium nitrate (CAN) and other mixtures with calcium carbonate\", \"line\": {\"color\": \"#ab63fa\"}, \"mode\": \"lines\", \"name\": \"Item=Calcium ammonium nitrate (CAN) and other mixtures with calcium carbonate\", \"orientation\": \"v\", \"showlegend\": true, \"stackgroup\": \"1\", \"type\": \"scatter\", \"x\": [2013, 2014, 2015, 2016, 2017], \"xaxis\": \"x\", \"y\": [0.0, 0.0, 0.0, 0.0, 0.0], \"yaxis\": \"y\"}, {\"hoverlabel\": {\"namelength\": 0}, \"hovertemplate\": \"Item=Diammonium phosphate (DAP)<br>Year=%{x}<br>Value=%{y}\", \"legendgroup\": \"Item=Diammonium phosphate (DAP)\", \"line\": {\"color\": \"#FFA15A\"}, \"mode\": \"lines\", \"name\": \"Item=Diammonium phosphate (DAP)\", \"orientation\": \"v\", \"showlegend\": true, \"stackgroup\": \"1\", \"type\": \"scatter\", \"x\": [2002, 2003, 2004, 2005, 2006, 2007, 2013, 2014, 2015, 2016, 2017], \"xaxis\": \"x\", \"y\": [6126.0, 4356.0, 7071.0, 217.0, 4839.0, 1768.0, 0.0, 0.0, 0.0, 0.0, 0.0], \"yaxis\": \"y\"}, {\"hoverlabel\": {\"namelength\": 0}, \"hovertemplate\": \"Item=Fertilizers n.e.c.<br>Year=%{x}<br>Value=%{y}\", \"legendgroup\": \"Item=Fertilizers n.e.c.\", \"line\": {\"color\": \"#19d3f3\"}, \"mode\": \"lines\", \"name\": \"Item=Fertilizers n.e.c.\", \"orientation\": \"v\", \"showlegend\": true, \"stackgroup\": \"1\", \"type\": \"scatter\", \"x\": [2013, 2014, 2015, 2016, 2017], \"xaxis\": \"x\", \"y\": [0.0, 0.0, 0.0, 0.0, 0.0], \"yaxis\": \"y\"}, {\"hoverlabel\": {\"namelength\": 0}, \"hovertemplate\": \"Item=Monoammonium phosphate (MAP)<br>Year=%{x}<br>Value=%{y}\", \"legendgroup\": \"Item=Monoammonium phosphate (MAP)\", \"line\": {\"color\": \"#FF6692\"}, \"mode\": \"lines\", \"name\": \"Item=Monoammonium phosphate (MAP)\", \"orientation\": \"v\", \"showlegend\": true, \"stackgroup\": \"1\", \"type\": \"scatter\", \"x\": [2002, 2003, 2004, 2005, 2006, 2007, 2008, 2009, 2010, 2011, 2012, 2013, 2014, 2015, 2016, 2017], \"xaxis\": \"x\", \"y\": [888375.0, 1010317.0, 966679.0, 913866.0, 1098239.0, 1043301.0, 1130097.0, 1065910.0, 1047536.0, 952634.0, 1344694.0, 1305765.0, 1173197.0, 1220400.0, 1153823.0, 1184560.0], \"yaxis\": \"y\"}, {\"hoverlabel\": {\"namelength\": 0}, \"hovertemplate\": \"Item=NPK fertilizers<br>Year=%{x}<br>Value=%{y}\", \"legendgroup\": \"Item=NPK fertilizers\", \"line\": {\"color\": \"#B6E880\"}, \"mode\": \"lines\", \"name\": \"Item=NPK fertilizers\", \"orientation\": \"v\", \"showlegend\": true, \"stackgroup\": \"1\", \"type\": \"scatter\", \"x\": [2013, 2014, 2015, 2016, 2017], \"xaxis\": \"x\", \"y\": [0.0, 0.0, 0.0, 0.0, 0.0], \"yaxis\": \"y\"}, {\"hoverlabel\": {\"namelength\": 0}, \"hovertemplate\": \"Item=Other nitrogenous fertilizers, n.e.c.<br>Year=%{x}<br>Value=%{y}\", \"legendgroup\": \"Item=Other nitrogenous fertilizers, n.e.c.\", \"line\": {\"color\": \"#FF97FF\"}, \"mode\": \"lines\", \"name\": \"Item=Other nitrogenous fertilizers, n.e.c.\", \"orientation\": \"v\", \"showlegend\": true, \"stackgroup\": \"1\", \"type\": \"scatter\", \"x\": [2013, 2014, 2015, 2016, 2017], \"xaxis\": \"x\", \"y\": [0.0, 0.0, 0.0, 0.0, 0.0], \"yaxis\": \"y\"}, {\"hoverlabel\": {\"namelength\": 0}, \"hovertemplate\": \"Item=Other NK compounds<br>Year=%{x}<br>Value=%{y}\", \"legendgroup\": \"Item=Other NK compounds\", \"line\": {\"color\": \"#FECB52\"}, \"mode\": \"lines\", \"name\": \"Item=Other NK compounds\", \"orientation\": \"v\", \"showlegend\": true, \"stackgroup\": \"1\", \"type\": \"scatter\", \"x\": [2013, 2014, 2015, 2016, 2017], \"xaxis\": \"x\", \"y\": [0.0, 0.0, 0.0, 0.0, 0.0], \"yaxis\": \"y\"}, {\"hoverlabel\": {\"namelength\": 0}, \"hovertemplate\": \"Item=Other NP compounds<br>Year=%{x}<br>Value=%{y}\", \"legendgroup\": \"Item=Other NP compounds\", \"line\": {\"color\": \"#636efa\"}, \"mode\": \"lines\", \"name\": \"Item=Other NP compounds\", \"orientation\": \"v\", \"showlegend\": true, \"stackgroup\": \"1\", \"type\": \"scatter\", \"x\": [2004, 2005, 2006, 2007, 2008, 2009, 2010, 2011, 2012, 2013, 2014, 2015, 2016, 2017], \"xaxis\": \"x\", \"y\": [276489.0, 286220.0, 285117.0, 280673.0, 222901.0, 238260.0, 237775.0, 207628.0, 180716.0, 163581.0, 151622.0, 140547.0, 160956.0, 144271.0], \"yaxis\": \"y\"}, {\"hoverlabel\": {\"namelength\": 0}, \"hovertemplate\": \"Item=Other phosphatic fertilizers, n.e.c.<br>Year=%{x}<br>Value=%{y}\", \"legendgroup\": \"Item=Other phosphatic fertilizers, n.e.c.\", \"line\": {\"color\": \"#EF553B\"}, \"mode\": \"lines\", \"name\": \"Item=Other phosphatic fertilizers, n.e.c.\", \"orientation\": \"v\", \"showlegend\": true, \"stackgroup\": \"1\", \"type\": \"scatter\", \"x\": [2013, 2014, 2015, 2016, 2017], \"xaxis\": \"x\", \"y\": [50791.0, 46956.0, 63674.0, 100107.0, 117463.0], \"yaxis\": \"y\"}, {\"hoverlabel\": {\"namelength\": 0}, \"hovertemplate\": \"Item=Other potassic fertilizers, n.e.c.<br>Year=%{x}<br>Value=%{y}\", \"legendgroup\": \"Item=Other potassic fertilizers, n.e.c.\", \"line\": {\"color\": \"#00cc96\"}, \"mode\": \"lines\", \"name\": \"Item=Other potassic fertilizers, n.e.c.\", \"orientation\": \"v\", \"showlegend\": true, \"stackgroup\": \"1\", \"type\": \"scatter\", \"x\": [2013, 2014, 2015, 2016, 2017], \"xaxis\": \"x\", \"y\": [0.0, 0.0, 0.0, 0.0, 0.0], \"yaxis\": \"y\"}, {\"hoverlabel\": {\"namelength\": 0}, \"hovertemplate\": \"Item=Phosphate rock<br>Year=%{x}<br>Value=%{y}\", \"legendgroup\": \"Item=Phosphate rock\", \"line\": {\"color\": \"#ab63fa\"}, \"mode\": \"lines\", \"name\": \"Item=Phosphate rock\", \"orientation\": \"v\", \"showlegend\": true, \"stackgroup\": \"1\", \"type\": \"scatter\", \"x\": [2002, 2003, 2004, 2005, 2006, 2007, 2008, 2009, 2010, 2011, 2012, 2013, 2014, 2015, 2016, 2017], \"xaxis\": \"x\", \"y\": [4984772.0, 5213482.0, 5660587.0, 5588265.0, 5754141.0, 6057579.0, 6292826.0, 5913835.0, 5587566.0, 6022722.0, 6019758.0, 5940568.0, 5792980.0, 5439334.0, 5110514.0, 5343992.0], \"yaxis\": \"y\"}, {\"hoverlabel\": {\"namelength\": 0}, \"hovertemplate\": \"Item=PK compounds<br>Year=%{x}<br>Value=%{y}\", \"legendgroup\": \"Item=PK compounds\", \"line\": {\"color\": \"#FFA15A\"}, \"mode\": \"lines\", \"name\": \"Item=PK compounds\", \"orientation\": \"v\", \"showlegend\": true, \"stackgroup\": \"1\", \"type\": \"scatter\", \"x\": [2013, 2014, 2015, 2016, 2017], \"xaxis\": \"x\", \"y\": [0.0, 0.0, 0.0, 0.0, 0.0], \"yaxis\": \"y\"}, {\"hoverlabel\": {\"namelength\": 0}, \"hovertemplate\": \"Item=Potassium chloride (muriate of potash) (MOP)<br>Year=%{x}<br>Value=%{y}\", \"legendgroup\": \"Item=Potassium chloride (muriate of potash) (MOP)\", \"line\": {\"color\": \"#19d3f3\"}, \"mode\": \"lines\", \"name\": \"Item=Potassium chloride (muriate of potash) (MOP)\", \"orientation\": \"v\", \"showlegend\": true, \"stackgroup\": \"1\", \"type\": \"scatter\", \"x\": [2002, 2003, 2004, 2005, 2006, 2007, 2008, 2009, 2010, 2011, 2012, 2013, 2014, 2015, 2016, 2017], \"xaxis\": \"x\", \"y\": [627217.0, 650536.0, 640473.0, 640852.0, 731401.0, 670969.0, 606707.0, 716635.0, 664214.0, 619346.0, 548533.0, 492152.0, 492355.0, 481269.0, 499082.0, 484877.0], \"yaxis\": \"y\"}, {\"hoverlabel\": {\"namelength\": 0}, \"hovertemplate\": \"Item=Potassium nitrate<br>Year=%{x}<br>Value=%{y}\", \"legendgroup\": \"Item=Potassium nitrate\", \"line\": {\"color\": \"#FF6692\"}, \"mode\": \"lines\", \"name\": \"Item=Potassium nitrate\", \"orientation\": \"v\", \"showlegend\": true, \"stackgroup\": \"1\", \"type\": \"scatter\", \"x\": [2013, 2014, 2015, 2016, 2017], \"xaxis\": \"x\", \"y\": [0.0, 0.0, 0.0, 0.0, 0.0], \"yaxis\": \"y\"}, {\"hoverlabel\": {\"namelength\": 0}, \"hovertemplate\": \"Item=Potassium sulphate (sulphate of potash) (SOP)<br>Year=%{x}<br>Value=%{y}\", \"legendgroup\": \"Item=Potassium sulphate (sulphate of potash) (SOP)\", \"line\": {\"color\": \"#B6E880\"}, \"mode\": \"lines\", \"name\": \"Item=Potassium sulphate (sulphate of potash) (SOP)\", \"orientation\": \"v\", \"showlegend\": true, \"stackgroup\": \"1\", \"type\": \"scatter\", \"x\": [2013, 2014, 2015, 2016, 2017], \"xaxis\": \"x\", \"y\": [0.0, 0.0, 0.0, 0.0, 0.0], \"yaxis\": \"y\"}, {\"hoverlabel\": {\"namelength\": 0}, \"hovertemplate\": \"Item=Sodium nitrate<br>Year=%{x}<br>Value=%{y}\", \"legendgroup\": \"Item=Sodium nitrate\", \"line\": {\"color\": \"#FF97FF\"}, \"mode\": \"lines\", \"name\": \"Item=Sodium nitrate\", \"orientation\": \"v\", \"showlegend\": true, \"stackgroup\": \"1\", \"type\": \"scatter\", \"x\": [2013, 2014, 2015, 2016, 2017], \"xaxis\": \"x\", \"y\": [0.0, 0.0, 0.0, 0.0, 0.0], \"yaxis\": \"y\"}, {\"hoverlabel\": {\"namelength\": 0}, \"hovertemplate\": \"Item=Superphosphates above 35%<br>Year=%{x}<br>Value=%{y}\", \"legendgroup\": \"Item=Superphosphates above 35%\", \"line\": {\"color\": \"#FECB52\"}, \"mode\": \"lines\", \"name\": \"Item=Superphosphates above 35%\", \"orientation\": \"v\", \"showlegend\": true, \"stackgroup\": \"1\", \"type\": \"scatter\", \"x\": [2003, 2004, 2005, 2006, 2007, 2008, 2009, 2010, 2011, 2012, 2013, 2014, 2015, 2016, 2017], \"xaxis\": \"x\", \"y\": [530498.0, 650021.0, 670083.0, 742791.0, 910047.0, 808312.0, 801369.0, 942774.0, 914369.0, 1007860.0, 936367.0, 915823.0, 859375.0, 854528.0, 953790.0], \"yaxis\": \"y\"}, {\"hoverlabel\": {\"namelength\": 0}, \"hovertemplate\": \"Item=Superphosphates, other<br>Year=%{x}<br>Value=%{y}\", \"legendgroup\": \"Item=Superphosphates, other\", \"line\": {\"color\": \"#636efa\"}, \"mode\": \"lines\", \"name\": \"Item=Superphosphates, other\", \"orientation\": \"v\", \"showlegend\": true, \"stackgroup\": \"1\", \"type\": \"scatter\", \"x\": [2003, 2004, 2005, 2006, 2007, 2008, 2009, 2010, 2011, 2012, 2013, 2014, 2015, 2016, 2017], \"xaxis\": \"x\", \"y\": [5307384.0, 5628486.0, 4707320.0, 4540965.0, 5767188.0, 5056130.0, 4553714.0, 5412780.0, 5888603.0, 5448432.0, 4931309.0, 4626220.0, 4779825.0, 4758855.0, 4255164.0], \"yaxis\": \"y\"}, {\"hoverlabel\": {\"namelength\": 0}, \"hovertemplate\": \"Item=Urea<br>Year=%{x}<br>Value=%{y}\", \"legendgroup\": \"Item=Urea\", \"line\": {\"color\": \"#EF553B\"}, \"mode\": \"lines\", \"name\": \"Item=Urea\", \"orientation\": \"v\", \"showlegend\": true, \"stackgroup\": \"1\", \"type\": \"scatter\", \"x\": [2002, 2003, 2004, 2005, 2006, 2007, 2008, 2009, 2010, 2011, 2012, 2013, 2014, 2015, 2016, 2017], \"xaxis\": \"x\", \"y\": [1284962.0, 1193568.0, 1195504.0, 1294662.0, 1411673.0, 1277753.0, 1182484.0, 1117345.0, 1269301.0, 1463372.0, 1340811.0, 1357412.0, 1107156.0, 1423005.0, 1327214.0, 836754.0], \"yaxis\": \"y\"}, {\"hoverlabel\": {\"namelength\": 0}, \"hovertemplate\": \"Item=Urea and ammonium nitrate solutions (UAN)<br>Year=%{x}<br>Value=%{y}\", \"legendgroup\": \"Item=Urea and ammonium nitrate solutions (UAN)\", \"line\": {\"color\": \"#00cc96\"}, \"mode\": \"lines\", \"name\": \"Item=Urea and ammonium nitrate solutions (UAN)\", \"orientation\": \"v\", \"showlegend\": true, \"stackgroup\": \"1\", \"type\": \"scatter\", \"x\": [2013, 2014, 2015, 2016, 2017], \"xaxis\": \"x\", \"y\": [0.0, 0.0, 0.0, 0.0, 0.0], \"yaxis\": \"y\"}],\n",
              "                        {\"legend\": {\"tracegroupgap\": 0}, \"template\": {\"data\": {\"bar\": [{\"error_x\": {\"color\": \"#2a3f5f\"}, \"error_y\": {\"color\": \"#2a3f5f\"}, \"marker\": {\"line\": {\"color\": \"#E5ECF6\", \"width\": 0.5}}, \"type\": \"bar\"}], \"barpolar\": [{\"marker\": {\"line\": {\"color\": \"#E5ECF6\", \"width\": 0.5}}, \"type\": \"barpolar\"}], \"carpet\": [{\"aaxis\": {\"endlinecolor\": \"#2a3f5f\", \"gridcolor\": \"white\", \"linecolor\": \"white\", \"minorgridcolor\": \"white\", \"startlinecolor\": \"#2a3f5f\"}, \"baxis\": {\"endlinecolor\": \"#2a3f5f\", \"gridcolor\": \"white\", \"linecolor\": \"white\", \"minorgridcolor\": \"white\", \"startlinecolor\": \"#2a3f5f\"}, \"type\": \"carpet\"}], \"choropleth\": [{\"colorbar\": {\"outlinewidth\": 0, \"ticks\": \"\"}, \"type\": \"choropleth\"}], \"contour\": [{\"colorbar\": {\"outlinewidth\": 0, \"ticks\": \"\"}, \"colorscale\": [[0.0, \"#0d0887\"], [0.1111111111111111, \"#46039f\"], [0.2222222222222222, \"#7201a8\"], [0.3333333333333333, \"#9c179e\"], [0.4444444444444444, \"#bd3786\"], [0.5555555555555556, \"#d8576b\"], [0.6666666666666666, \"#ed7953\"], [0.7777777777777778, \"#fb9f3a\"], [0.8888888888888888, \"#fdca26\"], [1.0, \"#f0f921\"]], \"type\": \"contour\"}], \"contourcarpet\": [{\"colorbar\": {\"outlinewidth\": 0, \"ticks\": \"\"}, \"type\": \"contourcarpet\"}], \"heatmap\": [{\"colorbar\": {\"outlinewidth\": 0, \"ticks\": \"\"}, \"colorscale\": [[0.0, \"#0d0887\"], [0.1111111111111111, \"#46039f\"], [0.2222222222222222, \"#7201a8\"], [0.3333333333333333, \"#9c179e\"], [0.4444444444444444, \"#bd3786\"], [0.5555555555555556, \"#d8576b\"], [0.6666666666666666, \"#ed7953\"], [0.7777777777777778, \"#fb9f3a\"], [0.8888888888888888, \"#fdca26\"], [1.0, \"#f0f921\"]], \"type\": \"heatmap\"}], \"heatmapgl\": [{\"colorbar\": {\"outlinewidth\": 0, \"ticks\": \"\"}, \"colorscale\": [[0.0, \"#0d0887\"], [0.1111111111111111, \"#46039f\"], [0.2222222222222222, \"#7201a8\"], [0.3333333333333333, \"#9c179e\"], [0.4444444444444444, \"#bd3786\"], [0.5555555555555556, \"#d8576b\"], [0.6666666666666666, \"#ed7953\"], [0.7777777777777778, \"#fb9f3a\"], [0.8888888888888888, \"#fdca26\"], [1.0, \"#f0f921\"]], \"type\": \"heatmapgl\"}], \"histogram\": [{\"marker\": {\"colorbar\": {\"outlinewidth\": 0, \"ticks\": \"\"}}, \"type\": \"histogram\"}], \"histogram2d\": [{\"colorbar\": {\"outlinewidth\": 0, \"ticks\": \"\"}, \"colorscale\": [[0.0, \"#0d0887\"], [0.1111111111111111, \"#46039f\"], [0.2222222222222222, \"#7201a8\"], [0.3333333333333333, \"#9c179e\"], [0.4444444444444444, \"#bd3786\"], [0.5555555555555556, \"#d8576b\"], [0.6666666666666666, \"#ed7953\"], [0.7777777777777778, \"#fb9f3a\"], [0.8888888888888888, \"#fdca26\"], [1.0, \"#f0f921\"]], \"type\": \"histogram2d\"}], \"histogram2dcontour\": [{\"colorbar\": {\"outlinewidth\": 0, \"ticks\": \"\"}, \"colorscale\": [[0.0, \"#0d0887\"], [0.1111111111111111, \"#46039f\"], [0.2222222222222222, \"#7201a8\"], [0.3333333333333333, \"#9c179e\"], [0.4444444444444444, \"#bd3786\"], [0.5555555555555556, \"#d8576b\"], [0.6666666666666666, \"#ed7953\"], [0.7777777777777778, \"#fb9f3a\"], [0.8888888888888888, \"#fdca26\"], [1.0, \"#f0f921\"]], \"type\": \"histogram2dcontour\"}], \"mesh3d\": [{\"colorbar\": {\"outlinewidth\": 0, \"ticks\": \"\"}, \"type\": \"mesh3d\"}], \"parcoords\": [{\"line\": {\"colorbar\": {\"outlinewidth\": 0, \"ticks\": \"\"}}, \"type\": \"parcoords\"}], \"pie\": [{\"automargin\": true, \"type\": \"pie\"}], \"scatter\": [{\"marker\": {\"colorbar\": {\"outlinewidth\": 0, \"ticks\": \"\"}}, \"type\": \"scatter\"}], \"scatter3d\": [{\"line\": {\"colorbar\": {\"outlinewidth\": 0, \"ticks\": \"\"}}, \"marker\": {\"colorbar\": {\"outlinewidth\": 0, \"ticks\": \"\"}}, \"type\": \"scatter3d\"}], \"scattercarpet\": [{\"marker\": {\"colorbar\": {\"outlinewidth\": 0, \"ticks\": \"\"}}, \"type\": \"scattercarpet\"}], \"scattergeo\": [{\"marker\": {\"colorbar\": {\"outlinewidth\": 0, \"ticks\": \"\"}}, \"type\": \"scattergeo\"}], \"scattergl\": [{\"marker\": {\"colorbar\": {\"outlinewidth\": 0, \"ticks\": \"\"}}, \"type\": \"scattergl\"}], \"scattermapbox\": [{\"marker\": {\"colorbar\": {\"outlinewidth\": 0, \"ticks\": \"\"}}, \"type\": \"scattermapbox\"}], \"scatterpolar\": [{\"marker\": {\"colorbar\": {\"outlinewidth\": 0, \"ticks\": \"\"}}, \"type\": \"scatterpolar\"}], \"scatterpolargl\": [{\"marker\": {\"colorbar\": {\"outlinewidth\": 0, \"ticks\": \"\"}}, \"type\": \"scatterpolargl\"}], \"scatterternary\": [{\"marker\": {\"colorbar\": {\"outlinewidth\": 0, \"ticks\": \"\"}}, \"type\": \"scatterternary\"}], \"surface\": [{\"colorbar\": {\"outlinewidth\": 0, \"ticks\": \"\"}, \"colorscale\": [[0.0, \"#0d0887\"], [0.1111111111111111, \"#46039f\"], [0.2222222222222222, \"#7201a8\"], [0.3333333333333333, \"#9c179e\"], [0.4444444444444444, \"#bd3786\"], [0.5555555555555556, \"#d8576b\"], [0.6666666666666666, \"#ed7953\"], [0.7777777777777778, \"#fb9f3a\"], [0.8888888888888888, \"#fdca26\"], [1.0, \"#f0f921\"]], \"type\": \"surface\"}], \"table\": [{\"cells\": {\"fill\": {\"color\": \"#EBF0F8\"}, \"line\": {\"color\": \"white\"}}, \"header\": {\"fill\": {\"color\": \"#C8D4E3\"}, \"line\": {\"color\": \"white\"}}, \"type\": \"table\"}]}, \"layout\": {\"annotationdefaults\": {\"arrowcolor\": \"#2a3f5f\", \"arrowhead\": 0, \"arrowwidth\": 1}, \"coloraxis\": {\"colorbar\": {\"outlinewidth\": 0, \"ticks\": \"\"}}, \"colorscale\": {\"diverging\": [[0, \"#8e0152\"], [0.1, \"#c51b7d\"], [0.2, \"#de77ae\"], [0.3, \"#f1b6da\"], [0.4, \"#fde0ef\"], [0.5, \"#f7f7f7\"], [0.6, \"#e6f5d0\"], [0.7, \"#b8e186\"], [0.8, \"#7fbc41\"], [0.9, \"#4d9221\"], [1, \"#276419\"]], \"sequential\": [[0.0, \"#0d0887\"], [0.1111111111111111, \"#46039f\"], [0.2222222222222222, \"#7201a8\"], [0.3333333333333333, \"#9c179e\"], [0.4444444444444444, \"#bd3786\"], [0.5555555555555556, \"#d8576b\"], [0.6666666666666666, \"#ed7953\"], [0.7777777777777778, \"#fb9f3a\"], [0.8888888888888888, \"#fdca26\"], [1.0, \"#f0f921\"]], \"sequentialminus\": [[0.0, \"#0d0887\"], [0.1111111111111111, \"#46039f\"], [0.2222222222222222, \"#7201a8\"], [0.3333333333333333, \"#9c179e\"], [0.4444444444444444, \"#bd3786\"], [0.5555555555555556, \"#d8576b\"], [0.6666666666666666, \"#ed7953\"], [0.7777777777777778, \"#fb9f3a\"], [0.8888888888888888, \"#fdca26\"], [1.0, \"#f0f921\"]]}, \"colorway\": [\"#636efa\", \"#EF553B\", \"#00cc96\", \"#ab63fa\", \"#FFA15A\", \"#19d3f3\", \"#FF6692\", \"#B6E880\", \"#FF97FF\", \"#FECB52\"], \"font\": {\"color\": \"#2a3f5f\"}, \"geo\": {\"bgcolor\": \"white\", \"lakecolor\": \"white\", \"landcolor\": \"#E5ECF6\", \"showlakes\": true, \"showland\": true, \"subunitcolor\": \"white\"}, \"hoverlabel\": {\"align\": \"left\"}, \"hovermode\": \"closest\", \"mapbox\": {\"style\": \"light\"}, \"paper_bgcolor\": \"white\", \"plot_bgcolor\": \"#E5ECF6\", \"polar\": {\"angularaxis\": {\"gridcolor\": \"white\", \"linecolor\": \"white\", \"ticks\": \"\"}, \"bgcolor\": \"#E5ECF6\", \"radialaxis\": {\"gridcolor\": \"white\", \"linecolor\": \"white\", \"ticks\": \"\"}}, \"scene\": {\"xaxis\": {\"backgroundcolor\": \"#E5ECF6\", \"gridcolor\": \"white\", \"gridwidth\": 2, \"linecolor\": \"white\", \"showbackground\": true, \"ticks\": \"\", \"zerolinecolor\": \"white\"}, \"yaxis\": {\"backgroundcolor\": \"#E5ECF6\", \"gridcolor\": \"white\", \"gridwidth\": 2, \"linecolor\": \"white\", \"showbackground\": true, \"ticks\": \"\", \"zerolinecolor\": \"white\"}, \"zaxis\": {\"backgroundcolor\": \"#E5ECF6\", \"gridcolor\": \"white\", \"gridwidth\": 2, \"linecolor\": \"white\", \"showbackground\": true, \"ticks\": \"\", \"zerolinecolor\": \"white\"}}, \"shapedefaults\": {\"line\": {\"color\": \"#2a3f5f\"}}, \"ternary\": {\"aaxis\": {\"gridcolor\": \"white\", \"linecolor\": \"white\", \"ticks\": \"\"}, \"baxis\": {\"gridcolor\": \"white\", \"linecolor\": \"white\", \"ticks\": \"\"}, \"bgcolor\": \"#E5ECF6\", \"caxis\": {\"gridcolor\": \"white\", \"linecolor\": \"white\", \"ticks\": \"\"}}, \"title\": {\"x\": 0.05}, \"xaxis\": {\"automargin\": true, \"gridcolor\": \"white\", \"linecolor\": \"white\", \"ticks\": \"\", \"title\": {\"standoff\": 15}, \"zerolinecolor\": \"white\", \"zerolinewidth\": 2}, \"yaxis\": {\"automargin\": true, \"gridcolor\": \"white\", \"linecolor\": \"white\", \"ticks\": \"\", \"title\": {\"standoff\": 15}, \"zerolinecolor\": \"white\", \"zerolinewidth\": 2}}}, \"title\": {\"text\": \"Production of fertilizers in Brazil\"}, \"xaxis\": {\"anchor\": \"y\", \"domain\": [0.0, 1.0], \"title\": {\"text\": \"Year\"}}, \"yaxis\": {\"anchor\": \"x\", \"domain\": [0.0, 1.0], \"title\": {\"text\": \"Value\"}}},\n",
              "                        {\"responsive\": true}\n",
              "                    ).then(function(){\n",
              "                            \n",
              "var gd = document.getElementById('558d3e93-9abe-455f-9b5b-80d67c884d0d');\n",
              "var x = new MutationObserver(function (mutations, observer) {{\n",
              "        var display = window.getComputedStyle(gd).display;\n",
              "        if (!display || display === 'none') {{\n",
              "            console.log([gd, 'removed!']);\n",
              "            Plotly.purge(gd);\n",
              "            observer.disconnect();\n",
              "        }}\n",
              "}});\n",
              "\n",
              "// Listen for the removal of the full notebook cells\n",
              "var notebookContainer = gd.closest('#notebook-container');\n",
              "if (notebookContainer) {{\n",
              "    x.observe(notebookContainer, {childList: true});\n",
              "}}\n",
              "\n",
              "// Listen for the clearing of the current output cell\n",
              "var outputEl = gd.closest('.output');\n",
              "if (outputEl) {{\n",
              "    x.observe(outputEl, {childList: true});\n",
              "}}\n",
              "\n",
              "                        })\n",
              "                };\n",
              "                \n",
              "            </script>\n",
              "        </div>\n",
              "</body>\n",
              "</html>"
            ]
          },
          "metadata": {
            "tags": []
          }
        }
      ]
    },
    {
      "cell_type": "markdown",
      "metadata": {
        "id": "XBEykYaw5VBh",
        "colab_type": "text"
      },
      "source": [
        "Urea is the most produced fertilizer in Brazil"
      ]
    },
    {
      "cell_type": "code",
      "metadata": {
        "id": "ZTsUHTiK5al8",
        "colab_type": "code",
        "colab": {
          "base_uri": "https://localhost:8080/",
          "height": 545
        },
        "outputId": "474925fd-2c65-4c8e-907b-9b2ed0797b03"
      },
      "source": [
        "urea_export = df_br.loc[(df_br.Item == 'Urea') & (df_br.Element == 'Export Value')]\n",
        "urea_export"
      ],
      "execution_count": 23,
      "outputs": [
        {
          "output_type": "execute_result",
          "data": {
            "text/html": [
              "<div>\n",
              "<style scoped>\n",
              "    .dataframe tbody tr th:only-of-type {\n",
              "        vertical-align: middle;\n",
              "    }\n",
              "\n",
              "    .dataframe tbody tr th {\n",
              "        vertical-align: top;\n",
              "    }\n",
              "\n",
              "    .dataframe thead th {\n",
              "        text-align: right;\n",
              "    }\n",
              "</style>\n",
              "<table border=\"1\" class=\"dataframe\">\n",
              "  <thead>\n",
              "    <tr style=\"text-align: right;\">\n",
              "      <th></th>\n",
              "      <th>Area</th>\n",
              "      <th>Item</th>\n",
              "      <th>Element</th>\n",
              "      <th>Year</th>\n",
              "      <th>Unit</th>\n",
              "      <th>Value</th>\n",
              "    </tr>\n",
              "  </thead>\n",
              "  <tbody>\n",
              "    <tr>\n",
              "      <th>20270</th>\n",
              "      <td>Brazil</td>\n",
              "      <td>Urea</td>\n",
              "      <td>Export Value</td>\n",
              "      <td>2002</td>\n",
              "      <td>1000 US$</td>\n",
              "      <td>8989.10</td>\n",
              "    </tr>\n",
              "    <tr>\n",
              "      <th>20271</th>\n",
              "      <td>Brazil</td>\n",
              "      <td>Urea</td>\n",
              "      <td>Export Value</td>\n",
              "      <td>2003</td>\n",
              "      <td>1000 US$</td>\n",
              "      <td>6632.64</td>\n",
              "    </tr>\n",
              "    <tr>\n",
              "      <th>20272</th>\n",
              "      <td>Brazil</td>\n",
              "      <td>Urea</td>\n",
              "      <td>Export Value</td>\n",
              "      <td>2004</td>\n",
              "      <td>1000 US$</td>\n",
              "      <td>5145.35</td>\n",
              "    </tr>\n",
              "    <tr>\n",
              "      <th>20273</th>\n",
              "      <td>Brazil</td>\n",
              "      <td>Urea</td>\n",
              "      <td>Export Value</td>\n",
              "      <td>2005</td>\n",
              "      <td>1000 US$</td>\n",
              "      <td>14608.74</td>\n",
              "    </tr>\n",
              "    <tr>\n",
              "      <th>20274</th>\n",
              "      <td>Brazil</td>\n",
              "      <td>Urea</td>\n",
              "      <td>Export Value</td>\n",
              "      <td>2006</td>\n",
              "      <td>1000 US$</td>\n",
              "      <td>3057.71</td>\n",
              "    </tr>\n",
              "    <tr>\n",
              "      <th>20275</th>\n",
              "      <td>Brazil</td>\n",
              "      <td>Urea</td>\n",
              "      <td>Export Value</td>\n",
              "      <td>2007</td>\n",
              "      <td>1000 US$</td>\n",
              "      <td>6803.44</td>\n",
              "    </tr>\n",
              "    <tr>\n",
              "      <th>20276</th>\n",
              "      <td>Brazil</td>\n",
              "      <td>Urea</td>\n",
              "      <td>Export Value</td>\n",
              "      <td>2008</td>\n",
              "      <td>1000 US$</td>\n",
              "      <td>10069.05</td>\n",
              "    </tr>\n",
              "    <tr>\n",
              "      <th>20277</th>\n",
              "      <td>Brazil</td>\n",
              "      <td>Urea</td>\n",
              "      <td>Export Value</td>\n",
              "      <td>2009</td>\n",
              "      <td>1000 US$</td>\n",
              "      <td>5662.66</td>\n",
              "    </tr>\n",
              "    <tr>\n",
              "      <th>20278</th>\n",
              "      <td>Brazil</td>\n",
              "      <td>Urea</td>\n",
              "      <td>Export Value</td>\n",
              "      <td>2010</td>\n",
              "      <td>1000 US$</td>\n",
              "      <td>6379.76</td>\n",
              "    </tr>\n",
              "    <tr>\n",
              "      <th>20279</th>\n",
              "      <td>Brazil</td>\n",
              "      <td>Urea</td>\n",
              "      <td>Export Value</td>\n",
              "      <td>2011</td>\n",
              "      <td>1000 US$</td>\n",
              "      <td>6054.79</td>\n",
              "    </tr>\n",
              "    <tr>\n",
              "      <th>20280</th>\n",
              "      <td>Brazil</td>\n",
              "      <td>Urea</td>\n",
              "      <td>Export Value</td>\n",
              "      <td>2012</td>\n",
              "      <td>1000 US$</td>\n",
              "      <td>7251.37</td>\n",
              "    </tr>\n",
              "    <tr>\n",
              "      <th>20281</th>\n",
              "      <td>Brazil</td>\n",
              "      <td>Urea</td>\n",
              "      <td>Export Value</td>\n",
              "      <td>2013</td>\n",
              "      <td>1000 US$</td>\n",
              "      <td>8499.76</td>\n",
              "    </tr>\n",
              "    <tr>\n",
              "      <th>20282</th>\n",
              "      <td>Brazil</td>\n",
              "      <td>Urea</td>\n",
              "      <td>Export Value</td>\n",
              "      <td>2014</td>\n",
              "      <td>1000 US$</td>\n",
              "      <td>8906.54</td>\n",
              "    </tr>\n",
              "    <tr>\n",
              "      <th>20283</th>\n",
              "      <td>Brazil</td>\n",
              "      <td>Urea</td>\n",
              "      <td>Export Value</td>\n",
              "      <td>2015</td>\n",
              "      <td>1000 US$</td>\n",
              "      <td>7750.18</td>\n",
              "    </tr>\n",
              "    <tr>\n",
              "      <th>20284</th>\n",
              "      <td>Brazil</td>\n",
              "      <td>Urea</td>\n",
              "      <td>Export Value</td>\n",
              "      <td>2016</td>\n",
              "      <td>1000 US$</td>\n",
              "      <td>9068.57</td>\n",
              "    </tr>\n",
              "    <tr>\n",
              "      <th>20285</th>\n",
              "      <td>Brazil</td>\n",
              "      <td>Urea</td>\n",
              "      <td>Export Value</td>\n",
              "      <td>2017</td>\n",
              "      <td>1000 US$</td>\n",
              "      <td>8294.30</td>\n",
              "    </tr>\n",
              "  </tbody>\n",
              "</table>\n",
              "</div>"
            ],
            "text/plain": [
              "         Area  Item       Element  Year      Unit     Value\n",
              "20270  Brazil  Urea  Export Value  2002  1000 US$   8989.10\n",
              "20271  Brazil  Urea  Export Value  2003  1000 US$   6632.64\n",
              "20272  Brazil  Urea  Export Value  2004  1000 US$   5145.35\n",
              "20273  Brazil  Urea  Export Value  2005  1000 US$  14608.74\n",
              "20274  Brazil  Urea  Export Value  2006  1000 US$   3057.71\n",
              "20275  Brazil  Urea  Export Value  2007  1000 US$   6803.44\n",
              "20276  Brazil  Urea  Export Value  2008  1000 US$  10069.05\n",
              "20277  Brazil  Urea  Export Value  2009  1000 US$   5662.66\n",
              "20278  Brazil  Urea  Export Value  2010  1000 US$   6379.76\n",
              "20279  Brazil  Urea  Export Value  2011  1000 US$   6054.79\n",
              "20280  Brazil  Urea  Export Value  2012  1000 US$   7251.37\n",
              "20281  Brazil  Urea  Export Value  2013  1000 US$   8499.76\n",
              "20282  Brazil  Urea  Export Value  2014  1000 US$   8906.54\n",
              "20283  Brazil  Urea  Export Value  2015  1000 US$   7750.18\n",
              "20284  Brazil  Urea  Export Value  2016  1000 US$   9068.57\n",
              "20285  Brazil  Urea  Export Value  2017  1000 US$   8294.30"
            ]
          },
          "metadata": {
            "tags": []
          },
          "execution_count": 23
        }
      ]
    },
    {
      "cell_type": "code",
      "metadata": {
        "id": "q6SxftU-7Jyx",
        "colab_type": "code",
        "colab": {
          "base_uri": "https://localhost:8080/",
          "height": 542
        },
        "outputId": "386f9775-4f3b-4e35-9064-9d09be939f37"
      },
      "source": [
        "fig = px.line(urea_export, x=\"Year\", y=\"Value\", title='Exportation of Urea in Brazil (x1000 US$)')\n",
        "fig.show()"
      ],
      "execution_count": 24,
      "outputs": [
        {
          "output_type": "display_data",
          "data": {
            "text/html": [
              "<html>\n",
              "<head><meta charset=\"utf-8\" /></head>\n",
              "<body>\n",
              "    <div>\n",
              "            <script src=\"https://cdnjs.cloudflare.com/ajax/libs/mathjax/2.7.5/MathJax.js?config=TeX-AMS-MML_SVG\"></script><script type=\"text/javascript\">if (window.MathJax) {MathJax.Hub.Config({SVG: {font: \"STIX-Web\"}});}</script>\n",
              "                <script type=\"text/javascript\">window.PlotlyConfig = {MathJaxConfig: 'local'};</script>\n",
              "        <script src=\"https://cdn.plot.ly/plotly-latest.min.js\"></script>    \n",
              "            <div id=\"19a5b9cb-08ca-424a-a88c-4e49ce9adb32\" class=\"plotly-graph-div\" style=\"height:525px; width:100%;\"></div>\n",
              "            <script type=\"text/javascript\">\n",
              "                \n",
              "                    window.PLOTLYENV=window.PLOTLYENV || {};\n",
              "                    \n",
              "                if (document.getElementById(\"19a5b9cb-08ca-424a-a88c-4e49ce9adb32\")) {\n",
              "                    Plotly.newPlot(\n",
              "                        '19a5b9cb-08ca-424a-a88c-4e49ce9adb32',\n",
              "                        [{\"hoverlabel\": {\"namelength\": 0}, \"hovertemplate\": \"Year=%{x}<br>Value=%{y}\", \"legendgroup\": \"\", \"line\": {\"color\": \"#636efa\", \"dash\": \"solid\"}, \"mode\": \"lines\", \"name\": \"\", \"showlegend\": false, \"type\": \"scatter\", \"x\": [2002, 2003, 2004, 2005, 2006, 2007, 2008, 2009, 2010, 2011, 2012, 2013, 2014, 2015, 2016, 2017], \"xaxis\": \"x\", \"y\": [8989.1, 6632.64, 5145.35, 14608.74, 3057.71, 6803.44, 10069.05, 5662.66, 6379.76, 6054.79, 7251.37, 8499.76, 8906.54, 7750.18, 9068.57, 8294.3], \"yaxis\": \"y\"}],\n",
              "                        {\"legend\": {\"tracegroupgap\": 0}, \"template\": {\"data\": {\"bar\": [{\"error_x\": {\"color\": \"#2a3f5f\"}, \"error_y\": {\"color\": \"#2a3f5f\"}, \"marker\": {\"line\": {\"color\": \"#E5ECF6\", \"width\": 0.5}}, \"type\": \"bar\"}], \"barpolar\": [{\"marker\": {\"line\": {\"color\": \"#E5ECF6\", \"width\": 0.5}}, \"type\": \"barpolar\"}], \"carpet\": [{\"aaxis\": {\"endlinecolor\": \"#2a3f5f\", \"gridcolor\": \"white\", \"linecolor\": \"white\", \"minorgridcolor\": \"white\", \"startlinecolor\": \"#2a3f5f\"}, \"baxis\": {\"endlinecolor\": \"#2a3f5f\", \"gridcolor\": \"white\", \"linecolor\": \"white\", \"minorgridcolor\": \"white\", \"startlinecolor\": \"#2a3f5f\"}, \"type\": \"carpet\"}], \"choropleth\": [{\"colorbar\": {\"outlinewidth\": 0, \"ticks\": \"\"}, \"type\": \"choropleth\"}], \"contour\": [{\"colorbar\": {\"outlinewidth\": 0, \"ticks\": \"\"}, \"colorscale\": [[0.0, \"#0d0887\"], [0.1111111111111111, \"#46039f\"], [0.2222222222222222, \"#7201a8\"], [0.3333333333333333, \"#9c179e\"], [0.4444444444444444, \"#bd3786\"], [0.5555555555555556, \"#d8576b\"], [0.6666666666666666, \"#ed7953\"], [0.7777777777777778, \"#fb9f3a\"], [0.8888888888888888, \"#fdca26\"], [1.0, \"#f0f921\"]], \"type\": \"contour\"}], \"contourcarpet\": [{\"colorbar\": {\"outlinewidth\": 0, \"ticks\": \"\"}, \"type\": \"contourcarpet\"}], \"heatmap\": [{\"colorbar\": {\"outlinewidth\": 0, \"ticks\": \"\"}, \"colorscale\": [[0.0, \"#0d0887\"], [0.1111111111111111, \"#46039f\"], [0.2222222222222222, \"#7201a8\"], [0.3333333333333333, \"#9c179e\"], [0.4444444444444444, \"#bd3786\"], [0.5555555555555556, \"#d8576b\"], [0.6666666666666666, \"#ed7953\"], [0.7777777777777778, \"#fb9f3a\"], [0.8888888888888888, \"#fdca26\"], [1.0, \"#f0f921\"]], \"type\": \"heatmap\"}], \"heatmapgl\": [{\"colorbar\": {\"outlinewidth\": 0, \"ticks\": \"\"}, \"colorscale\": [[0.0, \"#0d0887\"], [0.1111111111111111, \"#46039f\"], [0.2222222222222222, \"#7201a8\"], [0.3333333333333333, \"#9c179e\"], [0.4444444444444444, \"#bd3786\"], [0.5555555555555556, \"#d8576b\"], [0.6666666666666666, \"#ed7953\"], [0.7777777777777778, \"#fb9f3a\"], [0.8888888888888888, \"#fdca26\"], [1.0, \"#f0f921\"]], \"type\": \"heatmapgl\"}], \"histogram\": [{\"marker\": {\"colorbar\": {\"outlinewidth\": 0, \"ticks\": \"\"}}, \"type\": \"histogram\"}], \"histogram2d\": [{\"colorbar\": {\"outlinewidth\": 0, \"ticks\": \"\"}, \"colorscale\": [[0.0, \"#0d0887\"], [0.1111111111111111, \"#46039f\"], [0.2222222222222222, \"#7201a8\"], [0.3333333333333333, \"#9c179e\"], [0.4444444444444444, \"#bd3786\"], [0.5555555555555556, \"#d8576b\"], [0.6666666666666666, \"#ed7953\"], [0.7777777777777778, \"#fb9f3a\"], [0.8888888888888888, \"#fdca26\"], [1.0, \"#f0f921\"]], \"type\": \"histogram2d\"}], \"histogram2dcontour\": [{\"colorbar\": {\"outlinewidth\": 0, \"ticks\": \"\"}, \"colorscale\": [[0.0, \"#0d0887\"], [0.1111111111111111, \"#46039f\"], [0.2222222222222222, \"#7201a8\"], [0.3333333333333333, \"#9c179e\"], [0.4444444444444444, \"#bd3786\"], [0.5555555555555556, \"#d8576b\"], [0.6666666666666666, \"#ed7953\"], [0.7777777777777778, \"#fb9f3a\"], [0.8888888888888888, \"#fdca26\"], [1.0, \"#f0f921\"]], \"type\": \"histogram2dcontour\"}], \"mesh3d\": [{\"colorbar\": {\"outlinewidth\": 0, \"ticks\": \"\"}, \"type\": \"mesh3d\"}], \"parcoords\": [{\"line\": {\"colorbar\": {\"outlinewidth\": 0, \"ticks\": \"\"}}, \"type\": \"parcoords\"}], \"pie\": [{\"automargin\": true, \"type\": \"pie\"}], \"scatter\": [{\"marker\": {\"colorbar\": {\"outlinewidth\": 0, \"ticks\": \"\"}}, \"type\": \"scatter\"}], \"scatter3d\": [{\"line\": {\"colorbar\": {\"outlinewidth\": 0, \"ticks\": \"\"}}, \"marker\": {\"colorbar\": {\"outlinewidth\": 0, \"ticks\": \"\"}}, \"type\": \"scatter3d\"}], \"scattercarpet\": [{\"marker\": {\"colorbar\": {\"outlinewidth\": 0, \"ticks\": \"\"}}, \"type\": \"scattercarpet\"}], \"scattergeo\": [{\"marker\": {\"colorbar\": {\"outlinewidth\": 0, \"ticks\": \"\"}}, \"type\": \"scattergeo\"}], \"scattergl\": [{\"marker\": {\"colorbar\": {\"outlinewidth\": 0, \"ticks\": \"\"}}, \"type\": \"scattergl\"}], \"scattermapbox\": [{\"marker\": {\"colorbar\": {\"outlinewidth\": 0, \"ticks\": \"\"}}, \"type\": \"scattermapbox\"}], \"scatterpolar\": [{\"marker\": {\"colorbar\": {\"outlinewidth\": 0, \"ticks\": \"\"}}, \"type\": \"scatterpolar\"}], \"scatterpolargl\": [{\"marker\": {\"colorbar\": {\"outlinewidth\": 0, \"ticks\": \"\"}}, \"type\": \"scatterpolargl\"}], \"scatterternary\": [{\"marker\": {\"colorbar\": {\"outlinewidth\": 0, \"ticks\": \"\"}}, \"type\": \"scatterternary\"}], \"surface\": [{\"colorbar\": {\"outlinewidth\": 0, \"ticks\": \"\"}, \"colorscale\": [[0.0, \"#0d0887\"], [0.1111111111111111, \"#46039f\"], [0.2222222222222222, \"#7201a8\"], [0.3333333333333333, \"#9c179e\"], [0.4444444444444444, \"#bd3786\"], [0.5555555555555556, \"#d8576b\"], [0.6666666666666666, \"#ed7953\"], [0.7777777777777778, \"#fb9f3a\"], [0.8888888888888888, \"#fdca26\"], [1.0, \"#f0f921\"]], \"type\": \"surface\"}], \"table\": [{\"cells\": {\"fill\": {\"color\": \"#EBF0F8\"}, \"line\": {\"color\": \"white\"}}, \"header\": {\"fill\": {\"color\": \"#C8D4E3\"}, \"line\": {\"color\": \"white\"}}, \"type\": \"table\"}]}, \"layout\": {\"annotationdefaults\": {\"arrowcolor\": \"#2a3f5f\", \"arrowhead\": 0, \"arrowwidth\": 1}, \"coloraxis\": {\"colorbar\": {\"outlinewidth\": 0, \"ticks\": \"\"}}, \"colorscale\": {\"diverging\": [[0, \"#8e0152\"], [0.1, \"#c51b7d\"], [0.2, \"#de77ae\"], [0.3, \"#f1b6da\"], [0.4, \"#fde0ef\"], [0.5, \"#f7f7f7\"], [0.6, \"#e6f5d0\"], [0.7, \"#b8e186\"], [0.8, \"#7fbc41\"], [0.9, \"#4d9221\"], [1, \"#276419\"]], \"sequential\": [[0.0, \"#0d0887\"], [0.1111111111111111, \"#46039f\"], [0.2222222222222222, \"#7201a8\"], [0.3333333333333333, \"#9c179e\"], [0.4444444444444444, \"#bd3786\"], [0.5555555555555556, \"#d8576b\"], [0.6666666666666666, \"#ed7953\"], [0.7777777777777778, \"#fb9f3a\"], [0.8888888888888888, \"#fdca26\"], [1.0, \"#f0f921\"]], \"sequentialminus\": [[0.0, \"#0d0887\"], [0.1111111111111111, \"#46039f\"], [0.2222222222222222, \"#7201a8\"], [0.3333333333333333, \"#9c179e\"], [0.4444444444444444, \"#bd3786\"], [0.5555555555555556, \"#d8576b\"], [0.6666666666666666, \"#ed7953\"], [0.7777777777777778, \"#fb9f3a\"], [0.8888888888888888, \"#fdca26\"], [1.0, \"#f0f921\"]]}, \"colorway\": [\"#636efa\", \"#EF553B\", \"#00cc96\", \"#ab63fa\", \"#FFA15A\", \"#19d3f3\", \"#FF6692\", \"#B6E880\", \"#FF97FF\", \"#FECB52\"], \"font\": {\"color\": \"#2a3f5f\"}, \"geo\": {\"bgcolor\": \"white\", \"lakecolor\": \"white\", \"landcolor\": \"#E5ECF6\", \"showlakes\": true, \"showland\": true, \"subunitcolor\": \"white\"}, \"hoverlabel\": {\"align\": \"left\"}, \"hovermode\": \"closest\", \"mapbox\": {\"style\": \"light\"}, \"paper_bgcolor\": \"white\", \"plot_bgcolor\": \"#E5ECF6\", \"polar\": {\"angularaxis\": {\"gridcolor\": \"white\", \"linecolor\": \"white\", \"ticks\": \"\"}, \"bgcolor\": \"#E5ECF6\", \"radialaxis\": {\"gridcolor\": \"white\", \"linecolor\": \"white\", \"ticks\": \"\"}}, \"scene\": {\"xaxis\": {\"backgroundcolor\": \"#E5ECF6\", \"gridcolor\": \"white\", \"gridwidth\": 2, \"linecolor\": \"white\", \"showbackground\": true, \"ticks\": \"\", \"zerolinecolor\": \"white\"}, \"yaxis\": {\"backgroundcolor\": \"#E5ECF6\", \"gridcolor\": \"white\", \"gridwidth\": 2, \"linecolor\": \"white\", \"showbackground\": true, \"ticks\": \"\", \"zerolinecolor\": \"white\"}, \"zaxis\": {\"backgroundcolor\": \"#E5ECF6\", \"gridcolor\": \"white\", \"gridwidth\": 2, \"linecolor\": \"white\", \"showbackground\": true, \"ticks\": \"\", \"zerolinecolor\": \"white\"}}, \"shapedefaults\": {\"line\": {\"color\": \"#2a3f5f\"}}, \"ternary\": {\"aaxis\": {\"gridcolor\": \"white\", \"linecolor\": \"white\", \"ticks\": \"\"}, \"baxis\": {\"gridcolor\": \"white\", \"linecolor\": \"white\", \"ticks\": \"\"}, \"bgcolor\": \"#E5ECF6\", \"caxis\": {\"gridcolor\": \"white\", \"linecolor\": \"white\", \"ticks\": \"\"}}, \"title\": {\"x\": 0.05}, \"xaxis\": {\"automargin\": true, \"gridcolor\": \"white\", \"linecolor\": \"white\", \"ticks\": \"\", \"title\": {\"standoff\": 15}, \"zerolinecolor\": \"white\", \"zerolinewidth\": 2}, \"yaxis\": {\"automargin\": true, \"gridcolor\": \"white\", \"linecolor\": \"white\", \"ticks\": \"\", \"title\": {\"standoff\": 15}, \"zerolinecolor\": \"white\", \"zerolinewidth\": 2}}}, \"title\": {\"text\": \"Exportation of Urea in Brazil (x1000 US$)\"}, \"xaxis\": {\"anchor\": \"y\", \"domain\": [0.0, 1.0], \"title\": {\"text\": \"Year\"}}, \"yaxis\": {\"anchor\": \"x\", \"domain\": [0.0, 1.0], \"title\": {\"text\": \"Value\"}}},\n",
              "                        {\"responsive\": true}\n",
              "                    ).then(function(){\n",
              "                            \n",
              "var gd = document.getElementById('19a5b9cb-08ca-424a-a88c-4e49ce9adb32');\n",
              "var x = new MutationObserver(function (mutations, observer) {{\n",
              "        var display = window.getComputedStyle(gd).display;\n",
              "        if (!display || display === 'none') {{\n",
              "            console.log([gd, 'removed!']);\n",
              "            Plotly.purge(gd);\n",
              "            observer.disconnect();\n",
              "        }}\n",
              "}});\n",
              "\n",
              "// Listen for the removal of the full notebook cells\n",
              "var notebookContainer = gd.closest('#notebook-container');\n",
              "if (notebookContainer) {{\n",
              "    x.observe(notebookContainer, {childList: true});\n",
              "}}\n",
              "\n",
              "// Listen for the clearing of the current output cell\n",
              "var outputEl = gd.closest('.output');\n",
              "if (outputEl) {{\n",
              "    x.observe(outputEl, {childList: true});\n",
              "}}\n",
              "\n",
              "                        })\n",
              "                };\n",
              "                \n",
              "            </script>\n",
              "        </div>\n",
              "</body>\n",
              "</html>"
            ]
          },
          "metadata": {
            "tags": []
          }
        }
      ]
    },
    {
      "cell_type": "markdown",
      "metadata": {
        "id": "yr7gdbeZ_sjS",
        "colab_type": "text"
      },
      "source": [
        "Total exportation of Urea 2002-2017 in US$:"
      ]
    },
    {
      "cell_type": "code",
      "metadata": {
        "id": "hxOuNzhG_tKB",
        "colab_type": "code",
        "colab": {}
      },
      "source": [
        "import math\n",
        "\n",
        "millnames = ['',' Thousand',' Million',' Billion',' Trillion']\n",
        "\n",
        "def millify(n):\n",
        "    n = float(n)\n",
        "    millidx = max(0,min(len(millnames)-1,\n",
        "                        int(math.floor(0 if n == 0 else math.log10(abs(n))/3))))\n",
        "\n",
        "    return '{:.0f}{}'.format(n / 10**(3 * millidx), millnames[millidx])"
      ],
      "execution_count": 25,
      "outputs": []
    },
    {
      "cell_type": "code",
      "metadata": {
        "id": "FqNxGUxo_u0I",
        "colab_type": "code",
        "colab": {
          "base_uri": "https://localhost:8080/",
          "height": 34
        },
        "outputId": "9e0b3e2f-c757-42c0-8ef0-192afc07fa6c"
      },
      "source": [
        "total = urea_export['Value'].sum()\n",
        "print (f'Brazil exported US$ {millify(total*1000)} of Urea')"
      ],
      "execution_count": 26,
      "outputs": [
        {
          "output_type": "stream",
          "text": [
            "Brazil exported US$ 123 Million of Urea\n"
          ],
          "name": "stdout"
        }
      ]
    }
  ]
}